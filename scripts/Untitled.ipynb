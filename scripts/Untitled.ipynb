{
 "cells": [
  {
   "cell_type": "code",
   "execution_count": 14,
   "id": "bdc9347c-1402-413e-b317-d5338983b72d",
   "metadata": {},
   "outputs": [],
   "source": [
    "run ./scripts/instagram_poster"
   ]
  },
  {
   "cell_type": "code",
   "execution_count": 15,
   "id": "1c7e5211-f3c8-4d2f-96f5-d09e60db8cef",
   "metadata": {},
   "outputs": [],
   "source": [
    "import re\n",
    "import yaml\n",
    "from datetime import date\n",
    "from markdown2 import markdown\n",
    "from mdplain import plain\n",
    "from pathlib import Path\n",
    "\n",
    "places = []\n",
    "taste_labels = [\"Do Not Recommend\", \"Something Going For It\", \"Good\", \"Phenomenal\"]\n",
    "\n",
    "def rating_to_formatting(rating, rating_labels):\n",
    "    return rating_labels[rating]\n",
    "def rating_html(rating, rating_labels):\n",
    "    return \"&nbsp;\".join(\n",
    "        [\n",
    "            f'<span style=\"color: {color if rating == ix else faded_color}\" aria-hidden=\"{\"false\" if rating == ix else \"true\"}\">{label}</span>'\n",
    "            for ix, (label, color) in enumerate(zip(rating_labels, rating_colors))\n",
    "        ]\n",
    "    )\n",
    "def suffix(d):\n",
    "    return \"th\" if 11 <= d <= 13 else {1: \"st\", 2: \"nd\", 3: \"rd\"}.get(d % 10, \"th\")\n",
    "def custom_strftime(format_, t):\n",
    "    return t.strftime(format_).replace(\"{S}\", str(t.day) + suffix(t.day))\n",
    "def format_visited(visited):\n",
    "    return custom_strftime(\"{S} %B %Y\", visited)\n",
    "def format_blurb(md):\n",
    "    return \" \".join(plain(re.sub(r\"\\s+\", \" \", md.strip())).split(\" \")[:50]) + \"...\"\n",
    "for place_md in Path(\"places\").glob(\"*.md\"):\n",
    "    try: \n",
    "        slug = place_md.parts[-1][:-3]\n",
    "        relative_url = f\"/places/{slug}/\"\n",
    "        with open(place_md) as f:\n",
    "            _, frontmatter, md = f.read().split(\"---\", 2)\n",
    "        meta = yaml.load(frontmatter, Loader=yaml.Loader)\n",
    "        meta[\"url\"] = relative_url\n",
    "        meta[\"slug\"] = slug\n",
    "        visited = date.fromisoformat(meta[\"visited\"])\n",
    "        meta[\"visited_display\"] = format_visited(visited)\n",
    "        meta[\"review_age\"] = (date.today() - visited).days\n",
    "        meta[\"taste_label\"] = rating_to_formatting(meta[\"taste\"], taste_labels)\n",
    "        meta[\"blurb\"] = format_blurb(md)\n",
    "\n",
    "        places.append(meta)\n",
    "\n",
    "    except Exception as e:\n",
    "        print(place_md.name, e)\n"
   ]
  },
  {
   "cell_type": "code",
   "execution_count": 16,
   "id": "cbb95627-91db-4429-845d-be4a6f45480f",
   "metadata": {},
   "outputs": [],
   "source": [
    "place = places[0]"
   ]
  },
  {
   "cell_type": "code",
   "execution_count": 17,
   "id": "a68bb1f5-b8c5-4c49-972a-c5d0208e4aa2",
   "metadata": {},
   "outputs": [
    {
     "name": "stdout",
     "output_type": "stream",
     "text": [
      "Message: \n",
      "Stacktrace:\n",
      "0   chromedriver                        0x0000000104eb6a0c chromedriver + 4385292\n",
      "1   chromedriver                        0x0000000104eaf318 chromedriver + 4354840\n",
      "2   chromedriver                        0x0000000104accb0c chromedriver + 281356\n",
      "3   chromedriver                        0x0000000104b0f2f8 chromedriver + 553720\n",
      "4   chromedriver                        0x0000000104b47d24 chromedriver + 785700\n",
      "5   chromedriver                        0x0000000104b03eec chromedriver + 507628\n",
      "6   chromedriver                        0x0000000104b048c4 chromedriver + 510148\n",
      "7   chromedriver                        0x0000000104e7e3c8 chromedriver + 4154312\n",
      "8   chromedriver                        0x0000000104e82e2c chromedriver + 4173356\n",
      "9   chromedriver                        0x0000000104e63f84 chromedriver + 4046724\n",
      "10  chromedriver                        0x0000000104e83718 chromedriver + 4175640\n",
      "11  chromedriver                        0x0000000104e56f44 chromedriver + 3993412\n",
      "12  chromedriver                        0x0000000104ea11a8 chromedriver + 4297128\n",
      "13  chromedriver                        0x0000000104ea1324 chromedriver + 4297508\n",
      "14  chromedriver                        0x0000000104eaef10 chromedriver + 4353808\n",
      "15  libsystem_pthread.dylib             0x000000019800bfa8 _pthread_start + 148\n",
      "16  libsystem_pthread.dylib             0x0000000198006da0 thread_start + 8\n",
      "\n"
     ]
    }
   ],
   "source": [
    "credentials_file_path = './scripts/credentials.json'\n",
    "bot = InstagramBot(credentials_file_path)\n",
    "bot.login()\n",
    "bot.upload_post(place)\n",
    "# After logging in, you can proceed to upload posts or perform other actions\n",
    "bot.close_driver()\n"
   ]
  },
  {
   "cell_type": "code",
   "execution_count": null,
   "id": "560f71b8-2e6d-439a-a7ee-4817392a8a59",
   "metadata": {},
   "outputs": [],
   "source": []
  }
 ],
 "metadata": {
  "kernelspec": {
   "display_name": "Python [conda env:insta]",
   "language": "python",
   "name": "conda-env-insta-py"
  },
  "language_info": {
   "codemirror_mode": {
    "name": "ipython",
    "version": 3
   },
   "file_extension": ".py",
   "mimetype": "text/x-python",
   "name": "python",
   "nbconvert_exporter": "python",
   "pygments_lexer": "ipython3",
   "version": "3.12.4"
  }
 },
 "nbformat": 4,
 "nbformat_minor": 5
}
