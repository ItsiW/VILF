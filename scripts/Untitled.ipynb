{
 "cells": [
  {
   "cell_type": "code",
   "execution_count": 41,
   "id": "bdc9347c-1402-413e-b317-d5338983b72d",
   "metadata": {},
   "outputs": [],
   "source": [
    "run instagram_poster"
   ]
  },
  {
   "cell_type": "code",
   "execution_count": 42,
   "id": "1c7e5211-f3c8-4d2f-96f5-d09e60db8cef",
   "metadata": {},
   "outputs": [],
   "source": [
    "import re\n",
    "import yaml\n",
    "from datetime import date\n",
    "from markdown2 import markdown\n",
    "from mdplain import plain\n",
    "from pathlib import Path\n",
    "\n",
    "places = []\n",
    "taste_labels = [\"Do Not Recommend\", \"Something Going For It\", \"Good\", \"Phenomenal\"]\n",
    "\n",
    "def rating_to_formatting(rating, rating_labels):\n",
    "    return rating_labels[rating]\n",
    "def rating_html(rating, rating_labels):\n",
    "    return \"&nbsp;\".join(\n",
    "        [\n",
    "            f'<span style=\"color: {color if rating == ix else faded_color}\" aria-hidden=\"{\"false\" if rating == ix else \"true\"}\">{label}</span>'\n",
    "            for ix, (label, color) in enumerate(zip(rating_labels, rating_colors))\n",
    "        ]\n",
    "    )\n",
    "def suffix(d):\n",
    "    return \"th\" if 11 <= d <= 13 else {1: \"st\", 2: \"nd\", 3: \"rd\"}.get(d % 10, \"th\")\n",
    "def custom_strftime(format_, t):\n",
    "    return t.strftime(format_).replace(\"{S}\", str(t.day) + suffix(t.day))\n",
    "def format_visited(visited):\n",
    "    return custom_strftime(\"{S} %B %Y\", visited)\n",
    "def format_blurb(md):\n",
    "    return \" \".join(plain(re.sub(r\"\\s+\", \" \", md.strip())).split(\" \")[:50]) + \"...\"\n",
    "    \n",
    "for place_md in Path(\"../places\").glob(\"*.md\"):\n",
    "    try: \n",
    "        slug = place_md.parts[-1][:-3]\n",
    "        relative_url = f\"/places/{slug}/\"\n",
    "        with open(place_md) as f:\n",
    "            _, frontmatter, md = f.read().split(\"---\", 2)\n",
    "        meta = yaml.load(frontmatter, Loader=yaml.Loader)\n",
    "        meta[\"url\"] = relative_url\n",
    "        meta[\"slug\"] = slug\n",
    "        visited = date.fromisoformat(meta[\"visited\"])\n",
    "        meta[\"visited_display\"] = format_visited(visited)\n",
    "        meta[\"review_age\"] = (date.today() - visited).days\n",
    "        meta[\"taste_label\"] = rating_to_formatting(meta[\"taste\"], taste_labels)\n",
    "        meta[\"blurb\"] = format_blurb(md)\n",
    "\n",
    "        places.append(meta)\n",
    "\n",
    "    except Exception as e:\n",
    "        print(place_md.name, e)\n"
   ]
  },
  {
   "cell_type": "code",
   "execution_count": null,
   "id": "e933e126-fae9-4f0c-b95b-c51ac6897ab9",
   "metadata": {},
   "outputs": [],
   "source": []
  },
  {
   "cell_type": "code",
   "execution_count": 59,
   "id": "20cb6e35-54d5-4675-b9be-f6c025f665d3",
   "metadata": {},
   "outputs": [],
   "source": [
    "for place_md in Path(\"../places\").glob(\"*.md\"):\n",
    "\n",
    "    with open(place_md, 'r') as file:\n",
    "        content = file.read()\n",
    "    \n",
    "    # Split content to find the end of the YAML front matter\n",
    "    parts = content.split('---', 2)\n",
    "    if len(parts) > 2:\n",
    "        # Insert the new field after the front matter\n",
    "        new_content = parts[0] + '---' + parts[1] + 'instagram_published: False\\n' + '---' + parts[2]\n",
    "    else:\n",
    "        new_content = content  # Use original content if the split didn't work as expected\n",
    "    \n",
    "    # Write the updated content back to the same file\n",
    "    with open(place_md, 'w') as file:\n",
    "        file.write(new_content)"
   ]
  },
  {
   "cell_type": "code",
   "execution_count": 56,
   "id": "71e33c2a-e36e-4fce-ab1d-3bffe139f164",
   "metadata": {},
   "outputs": [
    {
     "name": "stdout",
     "output_type": "stream",
     "text": [
      "---\n",
      "name: Beit Rima\n",
      "cuisine: Middle Eastern\n",
      "drinks: True\n",
      "visited: \"2022-08-20\"\n",
      "address: 86 Carl St\n",
      "area: Haight-Ashbury\n",
      "taste: 2\n",
      "value: 2\n",
      "lat: 37.7659340593549\n",
      "lon: -122.44968514756269\n",
      "menu: http://beitrimasf.com/menu/\n",
      "phone: \"+14155661274\"\n",
      "instagram_published: False\n",
      "---\n",
      "\n",
      "Really good Middle Eastern food. We got a literal feast, and a bottle of Palestinian wine. Between 4 of us it costed $35 a head including tax and tip. Good value for what we got. \n",
      "\n",
      "Stand-outs were the **batata harra**, **house pita with spices**, and **hamleh** (fresh chickpeas that are charred in their shells). Although everything else we got was also good including the falafel, muhamara, baba ghanoush and ful.\n",
      "\n"
     ]
    }
   ],
   "source": [
    "print(new_content)"
   ]
  },
  {
   "cell_type": "code",
   "execution_count": null,
   "id": "c3d35dc6-a680-4234-b8d3-a701ea33b84a",
   "metadata": {},
   "outputs": [],
   "source": [
    "def add_instagram_field_to_md_file(file_path):\n",
    "    # Read the existing content from the file\n",
    "    with open(file_path, 'r') as file:\n",
    "        content = file.read()\n",
    "\n",
    "    # Split content to find the end of the YAML front matter\n",
    "    parts = content.split('---', 2)\n",
    "    if len(parts) > 2:\n",
    "        # Insert the new field after the front matter\n",
    "        new_content = parts[0] + '---' + parts[1] + '\\ninstagram_published: false\\n' + '---' + parts[2]\n",
    "    else:\n",
    "        new_content = content  # Use original content if the split didn't work as expected\n",
    "\n",
    "    # Write the updated content back to the same file\n",
    "    with open(file_path, 'w') as file:\n",
    "        file.write(new_content)\n",
    "\n",
    "# Specify the path to your Markdown file\n",
    "file_path = 'review.md'\n",
    "\n",
    "# Call the function to update the file\n",
    "add_instagram_field_to_md_file(file_path)\n",
    "\n",
    "print(\"The file has been updated successfully.\")"
   ]
  },
  {
   "cell_type": "code",
   "execution_count": null,
   "id": "b11c56f5-40a3-4667-b643-d2af4e953dc5",
   "metadata": {},
   "outputs": [],
   "source": []
  },
  {
   "cell_type": "code",
   "execution_count": null,
   "id": "18815ff6-af29-41cd-afb0-23b65300213e",
   "metadata": {},
   "outputs": [],
   "source": []
  },
  {
   "cell_type": "code",
   "execution_count": 7,
   "id": "cbb95627-91db-4429-845d-be4a6f45480f",
   "metadata": {},
   "outputs": [],
   "source": [
    "place = places[83]"
   ]
  },
  {
   "cell_type": "code",
   "execution_count": 43,
   "id": "a68bb1f5-b8c5-4c49-972a-c5d0208e4aa2",
   "metadata": {},
   "outputs": [],
   "source": [
    "credentials_file_path = 'credentials.json'\n",
    "bot = InstagramBot(credentials_file_path)\n",
    "bot.login()\n",
    "bot.upload_post(place)\n",
    "bot.close_driver()\n"
   ]
  },
  {
   "cell_type": "code",
   "execution_count": null,
   "id": "d5552d21-b254-4833-92a8-427cbc7120a6",
   "metadata": {},
   "outputs": [],
   "source": []
  }
 ],
 "metadata": {
  "kernelspec": {
   "display_name": "Python [conda env:vilf]",
   "language": "python",
   "name": "conda-env-vilf-py"
  },
  "language_info": {
   "codemirror_mode": {
    "name": "ipython",
    "version": 3
   },
   "file_extension": ".py",
   "mimetype": "text/x-python",
   "name": "python",
   "nbconvert_exporter": "python",
   "pygments_lexer": "ipython3",
   "version": "3.10.6"
  }
 },
 "nbformat": 4,
 "nbformat_minor": 5
}
