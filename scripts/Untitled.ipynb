{
 "cells": [
  {
   "cell_type": "code",
   "execution_count": 5,
   "id": "bdc9347c-1402-413e-b317-d5338983b72d",
   "metadata": {},
   "outputs": [],
   "source": [
    "run instagram_poster"
   ]
  },
  {
   "cell_type": "code",
   "execution_count": 6,
   "id": "1c7e5211-f3c8-4d2f-96f5-d09e60db8cef",
   "metadata": {},
   "outputs": [],
   "source": [
    "import re\n",
    "import yaml\n",
    "from datetime import date\n",
    "from markdown2 import markdown\n",
    "from mdplain import plain\n",
    "from pathlib import Path\n",
    "\n",
    "places = []\n",
    "taste_labels = [\"Do Not Recommend\", \"Something Going For It\", \"Good\", \"Phenomenal\"]\n",
    "\n",
    "def rating_to_formatting(rating, rating_labels):\n",
    "    return rating_labels[rating]\n",
    "def rating_html(rating, rating_labels):\n",
    "    return \"&nbsp;\".join(\n",
    "        [\n",
    "            f'<span style=\"color: {color if rating == ix else faded_color}\" aria-hidden=\"{\"false\" if rating == ix else \"true\"}\">{label}</span>'\n",
    "            for ix, (label, color) in enumerate(zip(rating_labels, rating_colors))\n",
    "        ]\n",
    "    )\n",
    "def suffix(d):\n",
    "    return \"th\" if 11 <= d <= 13 else {1: \"st\", 2: \"nd\", 3: \"rd\"}.get(d % 10, \"th\")\n",
    "def custom_strftime(format_, t):\n",
    "    return t.strftime(format_).replace(\"{S}\", str(t.day) + suffix(t.day))\n",
    "def format_visited(visited):\n",
    "    return custom_strftime(\"{S} %B %Y\", visited)\n",
    "def format_blurb(md):\n",
    "    return \" \".join(plain(re.sub(r\"\\s+\", \" \", md.strip())).split(\" \")[:50]) + \"...\"\n",
    "    \n",
    "for place_md in Path(\"../places\").glob(\"*.md\"):\n",
    "    try: \n",
    "        slug = place_md.parts[-1][:-3]\n",
    "        relative_url = f\"/places/{slug}/\"\n",
    "        with open(place_md) as f:\n",
    "            _, frontmatter, md = f.read().split(\"---\", 2)\n",
    "        meta = yaml.load(frontmatter, Loader=yaml.Loader)\n",
    "        meta[\"url\"] = relative_url\n",
    "        meta[\"slug\"] = slug\n",
    "        visited = date.fromisoformat(meta[\"visited\"])\n",
    "        meta[\"visited_display\"] = format_visited(visited)\n",
    "        meta[\"review_age\"] = (date.today() - visited).days\n",
    "        meta[\"taste_label\"] = rating_to_formatting(meta[\"taste\"], taste_labels)\n",
    "        meta[\"blurb\"] = format_blurb(md)\n",
    "\n",
    "        places.append(meta)\n",
    "\n",
    "    except Exception as e:\n",
    "        print(place_md.name, e)\n"
   ]
  },
  {
   "cell_type": "code",
   "execution_count": 7,
   "id": "cbb95627-91db-4429-845d-be4a6f45480f",
   "metadata": {},
   "outputs": [],
   "source": [
    "place = places[76]"
   ]
  },
  {
   "cell_type": "code",
   "execution_count": 8,
   "id": "a68bb1f5-b8c5-4c49-972a-c5d0208e4aa2",
   "metadata": {},
   "outputs": [
    {
     "name": "stdout",
     "output_type": "stream",
     "text": [
      "Message: \n",
      "Stacktrace:\n",
      "#0 0x638672a40dc3 <unknown>\n",
      "#1 0x63867272f4e7 <unknown>\n",
      "#2 0x63867277a35d <unknown>\n",
      "#3 0x63867277a411 <unknown>\n",
      "#4 0x6386727bd774 <unknown>\n",
      "#5 0x63867279c47d <unknown>\n",
      "#6 0x6386727bac29 <unknown>\n",
      "#7 0x63867279c1f3 <unknown>\n",
      "#8 0x63867276d28a <unknown>\n",
      "#9 0x63867276dc5e <unknown>\n",
      "#10 0x638672a050eb <unknown>\n",
      "#11 0x638672a0903b <unknown>\n",
      "#12 0x6386729f1201 <unknown>\n",
      "#13 0x638672a09ba2 <unknown>\n",
      "#14 0x6386729d60bf <unknown>\n",
      "#15 0x638672a2ff18 <unknown>\n",
      "#16 0x638672a300f0 <unknown>\n",
      "#17 0x638672a3ff14 <unknown>\n",
      "#18 0x7429c5494ac3 <unknown>\n",
      "\n"
     ]
    },
    {
     "ename": "IndexError",
     "evalue": "list index out of range",
     "output_type": "error",
     "traceback": [
      "\u001b[0;31m---------------------------------------------------------------------------\u001b[0m",
      "\u001b[0;31mIndexError\u001b[0m                                Traceback (most recent call last)",
      "Cell \u001b[0;32mIn [8], line 4\u001b[0m\n\u001b[1;32m      2\u001b[0m bot \u001b[38;5;241m=\u001b[39m InstagramBot(credentials_file_path)\n\u001b[1;32m      3\u001b[0m bot\u001b[38;5;241m.\u001b[39mlogin()\n\u001b[0;32m----> 4\u001b[0m \u001b[43mbot\u001b[49m\u001b[38;5;241;43m.\u001b[39;49m\u001b[43mupload_post\u001b[49m\u001b[43m(\u001b[49m\u001b[43mplace\u001b[49m\u001b[43m)\u001b[49m\n\u001b[1;32m      5\u001b[0m \u001b[38;5;66;03m# After logging in, you can proceed to upload posts or perform other actions\u001b[39;00m\n\u001b[1;32m      6\u001b[0m bot\u001b[38;5;241m.\u001b[39mclose_driver()\n",
      "File \u001b[0;32m~/git/vilf/scripts/instagram_poster.py:86\u001b[0m, in \u001b[0;36mInstagramBot.upload_post\u001b[0;34m(self, place)\u001b[0m\n\u001b[1;32m     84\u001b[0m \u001b[38;5;66;03m# Upload image\u001b[39;00m\n\u001b[1;32m     85\u001b[0m image_file_location \u001b[38;5;241m=\u001b[39m Path(\u001b[38;5;124mf\u001b[39m\u001b[38;5;124m\"\u001b[39m\u001b[38;5;124mraw/food/\u001b[39m\u001b[38;5;132;01m{\u001b[39;00mplace[\u001b[38;5;124m'\u001b[39m\u001b[38;5;124mslug\u001b[39m\u001b[38;5;124m'\u001b[39m]\u001b[38;5;132;01m}\u001b[39;00m\u001b[38;5;124m.jpg\u001b[39m\u001b[38;5;124m\"\u001b[39m)\u001b[38;5;241m.\u001b[39mabsolute()\u001b[38;5;241m.\u001b[39mas_posix()\n\u001b[0;32m---> 86\u001b[0m file_input \u001b[38;5;241m=\u001b[39m \u001b[38;5;28;43mself\u001b[39;49m\u001b[38;5;241;43m.\u001b[39;49m\u001b[43mdriver\u001b[49m\u001b[38;5;241;43m.\u001b[39;49m\u001b[43mfind_elements\u001b[49m\u001b[43m(\u001b[49m\u001b[43mBy\u001b[49m\u001b[38;5;241;43m.\u001b[39;49m\u001b[43mCSS_SELECTOR\u001b[49m\u001b[43m,\u001b[49m\u001b[43m \u001b[49m\u001b[38;5;124;43m'\u001b[39;49m\u001b[38;5;124;43minput[type=\u001b[39;49m\u001b[38;5;124;43m\"\u001b[39;49m\u001b[38;5;124;43mfile\u001b[39;49m\u001b[38;5;124;43m\"\u001b[39;49m\u001b[38;5;124;43m]\u001b[39;49m\u001b[38;5;124;43m'\u001b[39;49m\u001b[43m)\u001b[49m\u001b[43m[\u001b[49m\u001b[38;5;241;43m1\u001b[39;49m\u001b[43m]\u001b[49m\n\u001b[1;32m     87\u001b[0m file_input\u001b[38;5;241m.\u001b[39msend_keys(image_file_location)\n\u001b[1;32m     89\u001b[0m \u001b[38;5;66;03m# Proceed to the next page in the post creation flow\u001b[39;00m\n",
      "\u001b[0;31mIndexError\u001b[0m: list index out of range"
     ]
    }
   ],
   "source": [
    "credentials_file_path = 'credentials.json'\n",
    "bot = InstagramBot(credentials_file_path)\n",
    "bot.login()\n",
    "bot.upload_post(place)\n",
    "# After logging in, you can proceed to upload posts or perform other actions\n",
    "bot.close_driver()\n"
   ]
  },
  {
   "cell_type": "code",
   "execution_count": null,
   "id": "5967eb24-2ded-4502-85df-4401a468dfe1",
   "metadata": {},
   "outputs": [],
   "source": []
  }
 ],
 "metadata": {
  "kernelspec": {
   "display_name": "Python [conda env:vilf]",
   "language": "python",
   "name": "conda-env-vilf-py"
  },
  "language_info": {
   "codemirror_mode": {
    "name": "ipython",
    "version": 3
   },
   "file_extension": ".py",
   "mimetype": "text/x-python",
   "name": "python",
   "nbconvert_exporter": "python",
   "pygments_lexer": "ipython3",
   "version": "3.10.6"
  }
 },
 "nbformat": 4,
 "nbformat_minor": 5
}
