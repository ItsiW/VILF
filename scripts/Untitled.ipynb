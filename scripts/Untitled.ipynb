{
 "cells": [
  {
   "cell_type": "code",
<<<<<<< HEAD
   "execution_count": 103,
=======
   "execution_count": 11,
>>>>>>> f39707acfff8065c8dad0ccae9f31af951ca7f7c
   "id": "bdc9347c-1402-413e-b317-d5338983b72d",
   "metadata": {},
   "outputs": [],
   "source": [
    "run instagram_poster"
   ]
  },
  {
   "cell_type": "code",
<<<<<<< HEAD
   "execution_count": 104,
=======
   "execution_count": 12,
>>>>>>> f39707acfff8065c8dad0ccae9f31af951ca7f7c
   "id": "1c7e5211-f3c8-4d2f-96f5-d09e60db8cef",
   "metadata": {},
   "outputs": [],
   "source": [
    "import re\n",
    "import yaml\n",
    "from datetime import date\n",
    "from markdown2 import markdown\n",
    "from mdplain import plain\n",
    "from pathlib import Path\n",
    "\n",
    "places = []\n",
    "taste_labels = [\"Do Not Recommend\", \"Something Going For It\", \"Good\", \"Phenomenal\"]\n",
    "taste_labels_short = [\"dnr\", \"sgfi\", \"good\", \"phenomenal\"]\n",
    "\n",
    "def rating_to_formatting(rating, rating_labels):\n",
    "    return rating_labels[rating]\n",
    "def rating_html(rating, rating_labels):\n",
    "    return \"&nbsp;\".join(\n",
    "        [\n",
    "            f'<span style=\"color: {color if rating == ix else faded_color}\" aria-hidden=\"{\"false\" if rating == ix else \"true\"}\">{label}</span>'\n",
    "            for ix, (label, color) in enumerate(zip(rating_labels, rating_colors))\n",
    "        ]\n",
    "    )\n",
    "def suffix(d):\n",
    "    return \"th\" if 11 <= d <= 13 else {1: \"st\", 2: \"nd\", 3: \"rd\"}.get(d % 10, \"th\")\n",
    "def custom_strftime(format_, t):\n",
    "    return t.strftime(format_).replace(\"{S}\", str(t.day) + suffix(t.day))\n",
    "def format_visited(visited):\n",
    "    return custom_strftime(\"{S} %B %Y\", visited)\n",
    "def format_blurb(md):\n",
    "    return \" \".join(plain(re.sub(r\"\\s+\", \" \", md.strip())).split(\" \")[:50]) + \"...\"\n",
    "    \n",
    "for place_md in Path(\"../places\").glob(\"*.md\"):\n",
    "    try: \n",
    "        slug = place_md.parts[-1][:-3]\n",
    "        relative_url = f\"/places/{slug}/\"\n",
    "        with open(place_md) as f:\n",
    "            _, frontmatter, md = f.read().split(\"---\", 2)\n",
    "        meta = yaml.load(frontmatter, Loader=yaml.Loader)\n",
    "        meta[\"url\"] = relative_url\n",
    "        meta[\"slug\"] = slug\n",
    "        visited = date.fromisoformat(meta[\"visited\"])\n",
    "        meta[\"visited_display\"] = format_visited(visited)\n",
    "        meta[\"review_age\"] = (date.today() - visited).days\n",
    "        meta[\"taste_label\"] = rating_to_formatting(meta[\"taste\"], taste_labels)\n",
    "        meta[\"taste_label_short\"] = rating_to_formatting(meta[\"taste\"], taste_labels_short)\n",
    "        meta[\"blurb\"] = format_blurb(md)\n",
    "\n",
    "        places.append(meta)\n",
    "\n",
    "    except Exception as e:\n",
    "        print(place_md.name, e)\n"
   ]
  },
  {
   "cell_type": "code",
<<<<<<< HEAD
   "execution_count": 105,
=======
   "execution_count": 13,
>>>>>>> f39707acfff8065c8dad0ccae9f31af951ca7f7c
   "id": "e933e126-fae9-4f0c-b95b-c51ac6897ab9",
   "metadata": {},
   "outputs": [],
   "source": [
    "def toggle_instagram_published(file_path):\n",
    "    with open(file_path, 'r') as file:\n",
    "        content = file.read()\n",
    "\n",
    "    pattern = r'(instagram_published:\\s*)(True|False)'\n",
    "\n",
    "    def toggle_match(match):\n",
    "        current_value = match.group(2)\n",
    "        new_value = 'False' if current_value == 'True' else 'True'\n",
    "        return match.group(1) + new_value \n",
    "\n",
    "    new_content, n = re.subn(pattern, toggle_match, content)\n",
    "    if n > 0:\n",
    "        with open(file_path, 'w') as file:\n",
    "            file.write(new_content)\n",
    "    \n",
    "    "
   ]
  },
  {
   "cell_type": "code",
<<<<<<< HEAD
   "execution_count": 106,
=======
   "execution_count": 14,
>>>>>>> f39707acfff8065c8dad0ccae9f31af951ca7f7c
   "id": "18815ff6-af29-41cd-afb0-23b65300213e",
   "metadata": {},
   "outputs": [
    {
     "data": {
      "text/plain": [
<<<<<<< HEAD
       "['Burmese Kitchen',\n",
       " 'Hinodeya Ramen bar',\n",
       " 'Red Chilli',\n",
       " 'Panda Express',\n",
       " \"Gott's Roadside\",\n",
       " 'House of Dim Sum',\n",
       " 'Battambang',\n",
       " 'Chuan Yu/Sakura Bistro',\n",
       " \"La Guerrera's Kitchen\",\n",
       " 'Public Market Emeryville']"
      ]
     },
     "execution_count": 106,
=======
       "['Mint Leaf',\n",
       " 'Cam Huong Bakery',\n",
       " 'Spices 3',\n",
       " \"R' Noodles\",\n",
       " 'Gyu-Kaku',\n",
       " 'Sobo Ramen',\n",
       " 'Cam Anh Deli',\n",
       " 'Panchitas Restaurant #2',\n",
       " 'Pintoh Thai',\n",
       " 'Binh Minh Quan']"
      ]
     },
     "execution_count": 14,
>>>>>>> f39707acfff8065c8dad0ccae9f31af951ca7f7c
     "metadata": {},
     "output_type": "execute_result"
    }
   ],
   "source": [
    "places = sorted(places, key=lambda x: -x['review_age'])\n",
    "places = [p for p in places if p['instagram_published'] is False]\n",
    "places_to_update = places[:10]\n",
    "[p['name'] for p in places_to_update]"
   ]
  },
  {
   "cell_type": "code",
<<<<<<< HEAD
   "execution_count": 107,
   "id": "71b35eff-bb91-49d3-9977-6a5e106f21de",
=======
   "execution_count": 15,
   "id": "a68bb1f5-b8c5-4c49-972a-c5d0208e4aa2",
>>>>>>> f39707acfff8065c8dad0ccae9f31af951ca7f7c
   "metadata": {},
   "outputs": [
    {
     "name": "stdout",
     "output_type": "stream",
     "text": [
      "Message: \n",
      "Stacktrace:\n",
<<<<<<< HEAD
      "#0 0x614176d5adc3 <unknown>\n",
      "#1 0x614176a494e7 <unknown>\n",
      "#2 0x614176a9435d <unknown>\n",
      "#3 0x614176a94411 <unknown>\n",
      "#4 0x614176ad7774 <unknown>\n",
      "#5 0x614176ab647d <unknown>\n",
      "#6 0x614176ad4c29 <unknown>\n",
      "#7 0x614176ab61f3 <unknown>\n",
      "#8 0x614176a8728a <unknown>\n",
      "#9 0x614176a87c5e <unknown>\n",
      "#10 0x614176d1f0eb <unknown>\n",
      "#11 0x614176d2303b <unknown>\n",
      "#12 0x614176d0b201 <unknown>\n",
      "#13 0x614176d23ba2 <unknown>\n",
      "#14 0x614176cf00bf <unknown>\n",
      "#15 0x614176d49f18 <unknown>\n",
      "#16 0x614176d4a0f0 <unknown>\n",
      "#17 0x614176d59f14 <unknown>\n",
      "#18 0x765294294ac3 <unknown>\n",
=======
      "#0 0x6329e1013dc3 <unknown>\n",
      "#1 0x6329e0d024e7 <unknown>\n",
      "#2 0x6329e0d4d35d <unknown>\n",
      "#3 0x6329e0d4d411 <unknown>\n",
      "#4 0x6329e0d90774 <unknown>\n",
      "#5 0x6329e0d6f47d <unknown>\n",
      "#6 0x6329e0d8dc29 <unknown>\n",
      "#7 0x6329e0d6f1f3 <unknown>\n",
      "#8 0x6329e0d4028a <unknown>\n",
      "#9 0x6329e0d40c5e <unknown>\n",
      "#10 0x6329e0fd80eb <unknown>\n",
      "#11 0x6329e0fdc03b <unknown>\n",
      "#12 0x6329e0fc4201 <unknown>\n",
      "#13 0x6329e0fdcba2 <unknown>\n",
      "#14 0x6329e0fa90bf <unknown>\n",
      "#15 0x6329e1002f18 <unknown>\n",
      "#16 0x6329e10030f0 <unknown>\n",
      "#17 0x6329e1012f14 <unknown>\n",
      "#18 0x7fc831694ac3 <unknown>\n",
>>>>>>> f39707acfff8065c8dad0ccae9f31af951ca7f7c
      "\n"
     ]
    }
   ],
   "source": [
    "credentials_file_path = 'credentials.json'\n",
    "bot = InstagramBot(credentials_file_path)\n",
<<<<<<< HEAD
    "bot.login()"
   ]
  },
  {
   "cell_type": "code",
   "execution_count": 108,
   "id": "e48bd86f-323a-431e-997a-85b8f4bb1daf",
   "metadata": {},
   "outputs": [
    {
     "name": "stdout",
     "output_type": "stream",
     "text": [
      "sleeping for 13.715967742681045 seconds\n",
      "sleeping for 62.26952525581874 seconds\n",
      "sleeping for 99.47470230337717 seconds\n",
      "sleeping for 63.19569645619782 seconds\n",
      "sleeping for 16.002610889048825 seconds\n",
      "sleeping for 90.27409616280386 seconds\n",
      "sleeping for 108.79325192430493 seconds\n",
      "sleeping for 85.72121440133928 seconds\n",
      "sleeping for 95.4515412119291 seconds\n",
      "sleeping for 37.82052149129281 seconds\n"
     ]
    }
   ],
   "source": [
=======
    "bot.login()\n",
>>>>>>> f39707acfff8065c8dad0ccae9f31af951ca7f7c
    "for place in places_to_update:\n",
    "    bot.upload_post(place)\n",
    "    filepath = Path(\"..\" + place['url'][:-1] + \".md\")\n",
    "    toggle_instagram_published(filepath)\n",
<<<<<<< HEAD
    "    sleep_time = 120 * random()\n",
    "    print(f\"sleeping for {sleep_time} seconds\")\n",
    "    sleep(sleep_time)"
   ]
  },
  {
   "cell_type": "code",
   "execution_count": 60,
   "id": "a68bb1f5-b8c5-4c49-972a-c5d0208e4aa2",
   "metadata": {},
   "outputs": [],
   "source": [
    "# credentials_file_path = 'credentials.json'\n",
    "# bot = InstagramBot(credentials_file_path)\n",
    "# bot.login()\n",
    "# for place in places_to_update:\n",
    "#     bot.upload_post(place)\n",
    "#     filepath = Path(\"..\" + place['url'][:-1] + \".md\")\n",
    "#     toggle_instagram_published(filepath)\n",
    "#     sleep(120 * random())\n"
=======
    "    sleep(120 * random())\n"
>>>>>>> f39707acfff8065c8dad0ccae9f31af951ca7f7c
   ]
  },
  {
   "cell_type": "code",
   "execution_count": null,
<<<<<<< HEAD
   "id": "970a9c23-ae9e-418b-a0b7-e3b3290dafff",
=======
   "id": "946e7fd0-23e1-4f12-86e6-2925154c8ce6",
>>>>>>> f39707acfff8065c8dad0ccae9f31af951ca7f7c
   "metadata": {},
   "outputs": [],
   "source": []
  }
 ],
 "metadata": {
  "kernelspec": {
   "display_name": "Python [conda env:vilf]",
   "language": "python",
   "name": "conda-env-vilf-py"
  },
  "language_info": {
   "codemirror_mode": {
    "name": "ipython",
    "version": 3
   },
   "file_extension": ".py",
   "mimetype": "text/x-python",
   "name": "python",
   "nbconvert_exporter": "python",
   "pygments_lexer": "ipython3",
   "version": "3.10.10"
  }
 },
 "nbformat": 4,
 "nbformat_minor": 5
}
