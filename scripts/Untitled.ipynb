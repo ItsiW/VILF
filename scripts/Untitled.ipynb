{
 "cells": [
  {
   "cell_type": "code",
   "execution_count": 1,
   "id": "bdc9347c-1402-413e-b317-d5338983b72d",
   "metadata": {},
   "outputs": [],
   "source": [
    "run instagram_poster"
   ]
  },
  {
   "cell_type": "code",
   "execution_count": 2,
   "id": "1c7e5211-f3c8-4d2f-96f5-d09e60db8cef",
   "metadata": {},
   "outputs": [],
   "source": [
    "import re\n",
    "import yaml\n",
    "from datetime import date\n",
    "from markdown2 import markdown\n",
    "from mdplain import plain\n",
    "from pathlib import Path\n",
    "\n",
    "places = []\n",
    "taste_labels = [\"Do Not Recommend\", \"Something Going For It\", \"Good\", \"Phenomenal\"]\n",
    "taste_labels_short = [\"dnr\", \"sgfi\", \"good\", \"phenomenal\"]\n",
    "\n",
    "def rating_to_formatting(rating, rating_labels):\n",
    "    return rating_labels[rating]\n",
    "def rating_html(rating, rating_labels):\n",
    "    return \"&nbsp;\".join(\n",
    "        [\n",
    "            f'<span style=\"color: {color if rating == ix else faded_color}\" aria-hidden=\"{\"false\" if rating == ix else \"true\"}\">{label}</span>'\n",
    "            for ix, (label, color) in enumerate(zip(rating_labels, rating_colors))\n",
    "        ]\n",
    "    )\n",
    "def suffix(d):\n",
    "    return \"th\" if 11 <= d <= 13 else {1: \"st\", 2: \"nd\", 3: \"rd\"}.get(d % 10, \"th\")\n",
    "def custom_strftime(format_, t):\n",
    "    return t.strftime(format_).replace(\"{S}\", str(t.day) + suffix(t.day))\n",
    "def format_visited(visited):\n",
    "    return custom_strftime(\"{S} %B %Y\", visited)\n",
    "def format_blurb(md):\n",
    "    return \" \".join(plain(re.sub(r\"\\s+\", \" \", md.strip())).split(\" \")[:50]) + \"...\"\n",
    "    \n",
    "for place_md in Path(\"../places\").glob(\"*.md\"):\n",
    "    try: \n",
    "        slug = place_md.parts[-1][:-3]\n",
    "        relative_url = f\"/places/{slug}/\"\n",
    "        with open(place_md) as f:\n",
    "            _, frontmatter, md = f.read().split(\"---\", 2)\n",
    "        meta = yaml.load(frontmatter, Loader=yaml.Loader)\n",
    "        meta[\"url\"] = relative_url\n",
    "        meta[\"slug\"] = slug\n",
    "        visited = date.fromisoformat(meta[\"visited\"])\n",
    "        meta[\"visited_display\"] = format_visited(visited)\n",
    "        meta[\"review_age\"] = (date.today() - visited).days\n",
    "        meta[\"taste_label\"] = rating_to_formatting(meta[\"taste\"], taste_labels)\n",
    "        meta[\"taste_label_short\"] = rating_to_formatting(meta[\"taste\"], taste_labels_short)\n",
    "        meta[\"blurb\"] = format_blurb(md)\n",
    "\n",
    "        places.append(meta)\n",
    "\n",
    "    except Exception as e:\n",
    "        print(place_md.name, e)\n"
   ]
  },
  {
   "cell_type": "code",
   "execution_count": 3,
   "id": "e933e126-fae9-4f0c-b95b-c51ac6897ab9",
   "metadata": {},
   "outputs": [],
   "source": [
    "def toggle_instagram_published(file_path):\n",
    "    with open(file_path, 'r') as file:\n",
    "        content = file.read()\n",
    "\n",
    "    pattern = r'(instagram_published:\\s*)(True|False)'\n",
    "\n",
    "    def toggle_match(match):\n",
    "        current_value = match.group(2)\n",
    "        new_value = 'False' if current_value == 'True' else 'True'\n",
    "        return match.group(1) + new_value \n",
    "\n",
    "    new_content, n = re.subn(pattern, toggle_match, content)\n",
    "    if n > 0:\n",
    "        with open(file_path, 'w') as file:\n",
    "            file.write(new_content)\n",
    "    \n",
    "    "
   ]
  },
  {
   "cell_type": "code",
   "execution_count": 6,
   "id": "18815ff6-af29-41cd-afb0-23b65300213e",
   "metadata": {},
   "outputs": [
    {
     "data": {
      "text/plain": [
       "['Mensho Tokyo SF']"
      ]
     },
     "execution_count": 6,
     "metadata": {},
     "output_type": "execute_result"
    }
   ],
   "source": [
    "places = sorted(places, key=lambda x: x['review_age'])\n",
    "places = [p for p in places if p['instagram_published'] is False]\n",
    "places = [p for p in places if p['name'] != \"Fiji Airways\"]\n",
    "places_to_update = places[:1]\n",
    "[p['name'] for p in places_to_update]"
   ]
  },
  {
   "cell_type": "code",
   "execution_count": null,
   "id": "9e9082ac-e969-45d3-90d7-7f21aa7768eb",
   "metadata": {},
   "outputs": [],
   "source": []
  },
  {
   "cell_type": "code",
   "execution_count": 7,
   "id": "71b35eff-bb91-49d3-9977-6a5e106f21de",
   "metadata": {},
   "outputs": [
    {
     "name": "stdout",
     "output_type": "stream",
     "text": [
      "Message: \n",
      "Stacktrace:\n",
      "#0 0x5f97a9c402da <unknown>\n",
      "#1 0x5f97a990e200 <unknown>\n",
      "#2 0x5f97a995daa2 <unknown>\n",
      "#3 0x5f97a995dd41 <unknown>\n",
      "#4 0x5f97a99a3964 <unknown>\n",
      "#5 0x5f97a99828fd <unknown>\n",
      "#6 0x5f97a99a0dfd <unknown>\n",
      "#7 0x5f97a9982673 <unknown>\n",
      "#8 0x5f97a9950473 <unknown>\n",
      "#9 0x5f97a995147e <unknown>\n",
      "#10 0x5f97a9c070db <unknown>\n",
      "#11 0x5f97a9c0b071 <unknown>\n",
      "#12 0x5f97a9bf39d5 <unknown>\n",
      "#13 0x5f97a9c0bbf2 <unknown>\n",
      "#14 0x5f97a9bd8b6f <unknown>\n",
      "#15 0x5f97a9c2f248 <unknown>\n",
      "#16 0x5f97a9c2f417 <unknown>\n",
      "#17 0x5f97a9c3f0cc <unknown>\n",
      "#18 0x76a247094ac3 <unknown>\n",
      "\n"
     ]
    }
   ],
   "source": [
    "credentials_file_path = 'credentials.json'\n",
    "bot = InstagramBot(credentials_file_path)\n",
    "bot.login()"
   ]
  },
  {
   "cell_type": "code",
   "execution_count": 9,
   "id": "126836ee-fc97-4d2b-92fa-f081391ef877",
   "metadata": {},
   "outputs": [],
   "source": [
    "MINUTE = 60"
   ]
  },
  {
   "cell_type": "code",
   "execution_count": null,
   "id": "e48bd86f-323a-431e-997a-85b8f4bb1daf",
   "metadata": {},
   "outputs": [],
   "source": [
    "for place in places_to_update:\n",
    "    try:\n",
    "        bot.upload_post(place)\n",
    "        filepath = Path(\"..\" + place['url'][:-1] + \".md\")\n",
    "        toggle_instagram_published(filepath)\n",
    "    except Exception as e:\n",
    "        print(e)\n",
    "    sleep_time = MINUTE * (2 + random())\n",
    "    print(f\"sleeping for {sleep_time / MINUTE} minutes\")\n",
    "    sleep(sleep_time)"
   ]
  },
  {
   "cell_type": "code",
   "execution_count": 60,
   "id": "a68bb1f5-b8c5-4c49-972a-c5d0208e4aa2",
   "metadata": {},
   "outputs": [],
   "source": [
    "# credentials_file_path = 'credentials.json'\n",
    "# bot = InstagramBot(credentials_file_path)\n",
    "# bot.login()\n",
    "# for place in places_to_update:\n",
    "#     bot.upload_post(place)\n",
    "#     filepath = Path(\"..\" + place['url'][:-1] + \".md\")\n",
    "#     toggle_instagram_published(filepath)\n",
    "#     sleep(120 * random())\n"
   ]
  },
  {
   "cell_type": "code",
   "execution_count": 3,
   "id": "970a9c23-ae9e-418b-a0b7-e3b3290dafff",
   "metadata": {},
   "outputs": [],
   "source": [
    "places = sorted(places, key=lambda x: -x['review_age'])"
   ]
  },
  {
   "cell_type": "code",
   "execution_count": 43,
   "id": "c74c1119-5294-4392-912f-3ea864b70978",
   "metadata": {},
   "outputs": [],
   "source": [
    "values = [p['taste'] for p in places]"
   ]
  },
  {
   "cell_type": "code",
   "execution_count": 104,
   "id": "4fbe882f-2d0f-4ca0-9771-bf6e451fcf3f",
   "metadata": {},
   "outputs": [],
   "source": [
    "df = pd.DataFrame(values, columns=['value'])\n",
    "window = 50\n",
    "\n",
    "df.index.name = \"n_reviews\"\n",
    "df['prop_0'] = 0.0\n",
    "df['prop_1'] = 0.0\n",
    "df['prop_2'] = 0.0\n",
    "df['prop_3'] = 0.0\n",
    "\n",
    "for i in range(len(df)):\n",
    "    counts = df.loc[i-window:i, 'value'].value_counts(normalize=True)\n",
    "    df.loc[i, 'prop_0'] = counts.get(0, 0)\n",
    "    df.loc[i, 'prop_1'] = counts.get(1, 0)\n",
    "    df.loc[i, 'prop_2'] = counts.get(2, 0)\n",
    "    df.loc[i, 'prop_3'] = counts.get(3, 0)\n",
    "\n",
    "df.index += 1\n",
    "df = df.reset_index()"
   ]
  },
  {
   "cell_type": "code",
   "execution_count": 105,
   "id": "a14fc6b7-9f7f-4c04-8e67-904b00622f38",
   "metadata": {},
   "outputs": [
    {
     "data": {
      "image/png": "[encoded data removed]",
      "text/plain": [
       "<Figure size 640x480 with 1 Axes>"
      ]
     },
     "metadata": {},
     "output_type": "display_data"
    }
   ],
   "source": [
    "plot_df = df.iloc[window:]\n",
    "plt.plot(plot_df.n_reviews, plot_df.prop_0, color=\"red\", label=\"DNR\")\n",
    "plt.plot(plot_df.n_reviews, plot_df.prop_1, color=\"orange\", label=\"SGFI\")\n",
    "plt.plot(plot_df.n_reviews, plot_df.prop_2, color=\"green\", label=\"Good\")\n",
    "plt.plot(plot_df.n_reviews, plot_df.prop_3, color=\"blue\", label=\"Phenomenal\")\n",
    "\n",
    "plt.ylabel(\"proportion\")\n",
    "plt.xlabel(\"number of reviews made\")\n",
    "plt.legend()\n",
    "plt.grid()"
   ]
  },
  {
   "cell_type": "code",
   "execution_count": 63,
   "id": "e4fcf285-d9e3-4721-aebb-facc5c0e9bc0",
   "metadata": {},
   "outputs": [],
   "source": [
    "import matplotlib.pyplot as plt"
   ]
  },
  {
   "cell_type": "code",
   "execution_count": null,
   "id": "faa315ee-f5a7-451b-9571-fd989294a1a4",
   "metadata": {},
   "outputs": [],
   "source": []
  }
 ],
 "metadata": {
  "kernelspec": {
   "display_name": "Python [conda env:vilf]",
   "language": "python",
   "name": "conda-env-vilf-py"
  },
  "language_info": {
   "codemirror_mode": {
    "name": "ipython",
    "version": 3
   },
   "file_extension": ".py",
   "mimetype": "text/x-python",
   "name": "python",
   "nbconvert_exporter": "python",
   "pygments_lexer": "ipython3",
   "version": "3.10.10"
  }
 },
 "nbformat": 4,
 "nbformat_minor": 5
}
