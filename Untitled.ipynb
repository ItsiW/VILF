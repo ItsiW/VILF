{
 "cells": [
  {
   "cell_type": "code",
   "execution_count": 1,
   "id": "7131fa2f",
   "metadata": {
    "ExecuteTime": {
     "end_time": "2022-06-20T19:05:58.214824Z",
     "start_time": "2022-06-20T19:05:55.017806Z"
    }
   },
   "outputs": [
    {
     "name": "stdout",
     "output_type": "stream",
     "text": [
      "Starting build of tgtg...\n"
     ]
    },
    {
     "name": "stderr",
     "output_type": "stream",
     "text": [
      "processing food images: 100%|████████████████████████████████████████████████| 123/123 [00:00<00:00, 28669.04it/s]\n",
      "processing memes: 100%|███████████████████████████████████████████████████████████| 83/83 [00:02<00:00, 35.69it/s]\n"
     ]
    },
    {
     "name": "stdout",
     "output_type": "stream",
     "text": [
      "Done building tgtg with 181 places\n"
     ]
    }
   ],
   "source": [
    "#!/bin/python3\n",
    "\n",
    "import glob\n",
    "import json\n",
    "import os\n",
    "import re\n",
    "import shutil\n",
    "from datetime import date\n",
    "from pathlib import Path\n",
    "from tqdm import tqdm\n",
    "\n",
    "import yaml\n",
    "from jinja2 import Environment, FileSystemLoader\n",
    "from markdown2 import markdown\n",
    "from mdplain import plain\n",
    "from PIL import Image\n",
    "\n",
    "SITE_URL = \"https://thegoodtaste.guide\"\n",
    "\n",
    "print(\"Starting build of tgtg...\")\n",
    "\n",
    "env = Environment(loader=FileSystemLoader(\"html\"))\n",
    "env.globals[\"SITE_URL\"] = SITE_URL\n",
    "\n",
    "build_dir = Path(\".\") / \"build\"\n",
    "shutil.rmtree(build_dir, ignore_errors=True)\n",
    "\n",
    "# scale, crop and store standardised images\n",
    "food_image_target_size = (1920, 1080)\n",
    "food_thumb_target_size = (426, 240)\n",
    "jpg_quality = 75\n",
    "\n",
    "for img_type in [\"food\", \"thumb\", \"memes\"]:\n",
    "    path = Path(\"static\") / \"img\" / img_type\n",
    "    if not os.path.exists(path):\n",
    "        os.makedirs(path)\n",
    "\n",
    "for raw_jpg in tqdm(glob.glob(\"raw/food/*.jpg\"), desc=\"processing food images\"):\n",
    "    static_fp = Path(\"img\") / \"food\" / f\"{raw_jpg[9:-4]}.jpg\"\n",
    "    thumb_fp = Path(\"img\") / \"thumb\" / f\"{raw_jpg[9:-4]}.jpg\"\n",
    "    if not (\n",
    "        (Path(\"static\") / static_fp).exists() & (Path(\"static\") / thumb_fp).exists()\n",
    "    ):\n",
    "        with Image.open(raw_jpg) as im:\n",
    "            assert im.size[0] / im.size[1] <= 16 / 9\n",
    "            im = im.resize(\n",
    "                (\n",
    "                    food_image_target_size[0],\n",
    "                    int(food_image_target_size[0] * im.size[1] / im.size[0]),\n",
    "                )\n",
    "            )\n",
    "            pixels_to_crop = int((im.size[1] - food_image_target_size[1]) / 2)\n",
    "            (left, upper, right, lower) = (\n",
    "                0,\n",
    "                pixels_to_crop,\n",
    "                food_image_target_size[0],\n",
    "                food_image_target_size[1] + pixels_to_crop,\n",
    "            )\n",
    "            im_cropped = im.crop((left, upper, right, lower))\n",
    "            im_cropped.save(\n",
    "                fp=Path(\"static\") / static_fp, format=\"JPEG\", quality=jpg_quality\n",
    "            )\n",
    "\n",
    "            # thumbnails for images on map\n",
    "            im_thumb = im_cropped.resize(\n",
    "                (food_thumb_target_size[0], food_thumb_target_size[1])\n",
    "            )\n",
    "            im_thumb.save(\n",
    "                fp=Path(\"static\") / thumb_fp, format=\"JPEG\", quality=jpg_quality\n",
    "            )\n",
    "\n",
    "for meme_id, raw_meme in enumerate(\n",
    "    tqdm(glob.glob(\"raw/memes/*\"), desc=\"processing memes\")\n",
    "):\n",
    "    fp = Path(f\"img/memes/{meme_id}.jpg\")\n",
    "    with Image.open(raw_meme) as im:\n",
    "        if im.mode == \"RGBA\":\n",
    "            im = im.convert(\"RGB\")\n",
    "        im.save(fp=Path(\"static\") / fp, format=\"JPEG\", quality=jpg_quality)\n",
    "n_memes = meme_id + 1\n",
    "\n",
    "shutil.copytree(Path(\"static\"), build_dir)\n",
    "\n",
    "sitemap = []\n",
    "\n",
    "## map page\n",
    "with open(build_dir / \"index.html\", \"w\") as o:\n",
    "    o.write(\n",
    "        env.get_template(\"map.html\").render(\n",
    "            title=\"The Good Taste Guide\",\n",
    "            description=\"Find tasty vegan food around New York City!\",\n",
    "            thumbnails=[\n",
    "                Path(\"img\") / \"thumb\" / file for file in (Path(\"static\") / \"img\" / \"thumb\").iterdir()\n",
    "                # f\"img/thumb/{file}\" for file in os.listdir(\"static/img/thumb/\")\n",
    "            ],\n",
    "        )\n",
    "    )\n",
    "sitemap.append(\n",
    "    {\n",
    "        \"url\": f\"{SITE_URL}/\",\n",
    "    }\n",
    ")\n",
    "\n",
    "## error page\n",
    "with open(build_dir / \"error.html\", \"w\") as o:\n",
    "    o.write(\n",
    "        env.get_template(\"error.html\").render(\n",
    "            title=\"The Good Taste Guide\",\n",
    "            description=\"An error occured.\",\n",
    "        )\n",
    "    )\n",
    "\n",
    "## about page\n",
    "about_dir = build_dir / \"about\"\n",
    "about_dir.mkdir(exist_ok=True, parents=True)\n",
    "with open(\"./about.md\") as f:\n",
    "    _, frontmatter, md = f.read().split(\"---\", 2)\n",
    "meta = yaml.load(frontmatter, Loader=yaml.Loader)\n",
    "html = markdown(md.strip())\n",
    "with open(about_dir / \"index.html\", \"w\") as o:\n",
    "    o.write(\n",
    "        env.get_template(\"about.html\").render(\n",
    "            **meta,\n",
    "            content=html,\n",
    "        )\n",
    "    )\n",
    "sitemap.append(\n",
    "    {\n",
    "        \"url\": f\"{SITE_URL}/about/\",\n",
    "    }\n",
    ")\n",
    "\n",
    "## place pages\n",
    "place_template = env.get_template(\"place.html\")\n",
    "places = []\n",
    "\n",
    "\n",
    "taste_labels = [\"DNR\", \"SGFI\", \"Good\", \"Phenomenal\"]\n",
    "value_labels = [\"Bad\", \"Fine\", \"Good\", \"Phenomenal\"]\n",
    "rating_colors = [\"#ef422b\", \"#efa72b\", \"#32af2d\", \"#2b9aef\"]\n",
    "faded_color = \"#cecece\"\n",
    "\n",
    "\n",
    "def rating_to_formatting(rating, rating_labels):\n",
    "    return rating_labels[rating], rating_colors[rating]\n",
    "\n",
    "\n",
    "def rating_html(rating, rating_labels):\n",
    "    return \"&nbsp;\".join(\n",
    "        [\n",
    "            f'<span style=\"color: {color if rating == ix else faded_color}\" aria-hidden=\"{\"false\" if rating == ix else \"true\"}\">{label}</span>'\n",
    "            for ix, (label, color) in enumerate(zip(rating_labels, rating_colors))\n",
    "        ]\n",
    "    )\n",
    "\n",
    "\n",
    "boolean_labels = [\"Nah\", \"Yeah\"]\n",
    "boolean_colors = [\"#ef422b\", \"#2b9aef\"]\n",
    "\n",
    "\n",
    "def boolean_to_formatting(boolean):\n",
    "    return boolean_labels[boolean], boolean_colors[boolean]\n",
    "\n",
    "\n",
    "def boolean_html(boolean):\n",
    "    return \" \".join(\n",
    "        [\n",
    "            f'<span style=\"color: {color if boolean == ix else faded_color}\" aria-hidden=\"{\"false\" if boolean == ix else \"true\"}\">{label}</span>'\n",
    "            for ix, (label, color) in enumerate(zip(boolean_labels, boolean_colors))\n",
    "        ]\n",
    "    )\n",
    "\n",
    "\n",
    "def format_title(meta):\n",
    "    return f'{meta[\"name\"]} — Tasty vegan food in {meta[\"area\"]}, New York — The Good Taste Guide'\n",
    "\n",
    "\n",
    "def format_description(meta):\n",
    "    return f'Read our review on {meta[\"name\"]} at {meta[\"address\"]} in {meta[\"area\"]}, and more tasty vegan {meta[\"cuisine\"]} food in New York City from The Good Taste Guide!'\n",
    "\n",
    "\n",
    "def format_phone_number(meta):\n",
    "    if meta[\"phone\"] is None:\n",
    "        return\n",
    "    number = meta[\"phone\"]\n",
    "    assert len(number) == 12, meta[\"slug\"]\n",
    "    assert number[:2] == \"+1\", meta[\"slug\"]\n",
    "    return f\"({number[2:5]}) {number[5:8]}-{number[8:12]}\"\n",
    "\n",
    "\n",
    "assert format_phone_number({\"phone\": \"+12345678987\"}) == \"(234) 567-8987\"\n",
    "\n",
    "\n",
    "def format_geodata(meta):\n",
    "    return f'{meta[\"lat\"]},{meta[\"lon\"]}'\n",
    "\n",
    "\n",
    "def suffix(d):\n",
    "    return \"th\" if 11 <= d <= 13 else {1: \"st\", 2: \"nd\", 3: \"rd\"}.get(d % 10, \"th\")\n",
    "\n",
    "\n",
    "def custom_strftime(format_, t):\n",
    "    return t.strftime(format_).replace(\"{S}\", str(t.day) + suffix(t.day))\n",
    "\n",
    "\n",
    "def format_visited(visited):\n",
    "    return custom_strftime(\"{S} %B %Y\", visited)\n",
    "\n",
    "\n",
    "def format_blurb(md):\n",
    "    return \" \".join(plain(re.sub(r\"\\s+\", \" \", md.strip())).split(\" \")[:50]) + \"...\"\n",
    "\n",
    "\n",
    "def get_fp_food_image(slug):\n",
    "    static_fp = f\"/img/food/{slug}.jpg\"\n",
    "    return static_fp if Path(f\"static{static_fp}\").exists() else None\n",
    "\n",
    "\n",
    "def get_fp_food_thumb(slug):\n",
    "    static_fp = f\"/img/thumb/{slug}.jpg\"\n",
    "    return static_fp if Path(f\"static{static_fp}\").exists() else None\n",
    "\n",
    "\n",
    "for place_md in glob.glob(\"places/*.md\"):\n",
    "    slug = place_md[7:-3]\n",
    "    assert re.match(r\"^[0-9a-z-]+$\", slug), \"Bad filename for \" + place_md\n",
    "    relative_url = f\"/places/{slug}/\"\n",
    "    with open(place_md) as f:\n",
    "        _, frontmatter, md = f.read().split(\"---\", 2)\n",
    "    meta = yaml.load(frontmatter, Loader=yaml.Loader)\n",
    "    meta[\"url\"] = relative_url\n",
    "    meta[\"slug\"] = slug\n",
    "    meta[\"geodata\"] = format_geodata(meta)\n",
    "    meta[\"phone_display\"] = format_phone_number(meta)\n",
    "    visited = date.fromisoformat(meta[\"visited\"])\n",
    "    meta[\"visited_display\"] = format_visited(visited)\n",
    "    meta[\"review_age\"] = (date.today() - visited).days\n",
    "    if meta[\"taste\"] == 1:\n",
    "        assert \"sgfi\" in meta, f\"{meta['slug']} missing sgfi\"\n",
    "        assert meta[\"sgfi\"] is not None, f\"{meta['slug']} missing sgfi\"\n",
    "    if meta[\"taste\"] >= 1:\n",
    "        assert \"**\" in md, f\"highlight food in {meta['slug']}\"\n",
    "    meta[\"taste_label\"], meta[\"taste_color\"] = rating_to_formatting(\n",
    "        meta[\"taste\"], taste_labels\n",
    "    )\n",
    "    meta[\"value_label\"], meta[\"value_color\"] = rating_to_formatting(\n",
    "        meta[\"value\"], value_labels\n",
    "    )\n",
    "    meta[\"drinks_label\"], meta[\"drinks_color\"] = boolean_to_formatting(meta[\"drinks\"])\n",
    "    html = markdown(md.strip())\n",
    "    meta[\"blurb\"] = format_blurb(md)\n",
    "    meta[\"food_image_path\"] = get_fp_food_image(slug)\n",
    "    meta[\"food_thumb_path\"] = get_fp_food_thumb(slug)\n",
    "    rendered = place_template.render(\n",
    "        **meta,\n",
    "        title=format_title(meta),\n",
    "        description=format_description(meta),\n",
    "        taste_html=rating_html(meta[\"taste\"], taste_labels),\n",
    "        value_html=rating_html(meta[\"value\"], value_labels),\n",
    "        drinks_html=boolean_html(meta[\"drinks\"]),\n",
    "        content=html,\n",
    "        n_memes=n_memes,\n",
    "    )\n",
    "    out_dir = build_dir / \"places\" / slug\n",
    "    out_dir.mkdir(exist_ok=True, parents=True)\n",
    "    with open(out_dir / \"index.html\", \"w\") as o:\n",
    "        o.write(rendered)\n",
    "    places.append(meta)\n",
    "\n",
    "    sitemap.append(\n",
    "        {\n",
    "            \"url\": f\"{SITE_URL}{relative_url}\",\n",
    "            \"lastmod\": visited,\n",
    "        }\n",
    "    )\n",
    "\n",
    "unique_fields = [\"name\", \"lat\", \"lon\", \"menu\", \"phone\", \"blurb\"]\n",
    "\n",
    "for field in unique_fields:\n",
    "    field_list = [place[field] for place in places if place[field] is not None]\n",
    "    assert len(set(field_list)) == len(field_list), f\"Reused {field} field\"\n",
    "\n",
    "geojson_keys = [\n",
    "    \"name\",\n",
    "    \"cuisine\",\n",
    "    \"url\",\n",
    "    \"taste_color\",\n",
    "    \"taste_label\",\n",
    "    \"value_color\",\n",
    "    \"value_label\",\n",
    "    \"food_thumb_path\",\n",
    "    \"food_image_path\",\n",
    "]\n",
    "\n",
    "geojson = {\n",
    "    \"type\": \"FeatureCollection\",\n",
    "    \"features\": [\n",
    "        {\n",
    "            \"type\": \"Feature\",\n",
    "            \"geometry\": {\"type\": \"Point\", \"coordinates\": [place[\"lon\"], place[\"lat\"]]},\n",
    "            \"properties\": {\n",
    "                key: value for key, value in place.items() if key in geojson_keys\n",
    "            },\n",
    "        }\n",
    "        # sort reverse of by taste desc, then value desc, then alphabetical by name\n",
    "        for place in sorted(\n",
    "            places,\n",
    "            key=lambda item: (-item[\"taste\"], -item[\"value\"], item[\"slug\"]),\n",
    "            reverse=True,\n",
    "        )\n",
    "    ],\n",
    "}\n",
    "\n",
    "with open(build_dir / \"places.geojson\", \"w\") as o:\n",
    "    o.write(json.dumps(geojson))\n",
    "\n",
    "## best page\n",
    "best_dir = build_dir / \"best\"\n",
    "best_dir.mkdir(exist_ok=True, parents=True)\n",
    "with open(best_dir / \"index.html\", \"w\") as o:\n",
    "    o.write(\n",
    "        env.get_template(\"best.html\").render(\n",
    "            title=\"The Good Taste Guide\",\n",
    "            description=\"Find tasty vegan food around New York City!\",\n",
    "            # sort by taste desc, then value desc, then alphabetical by name\n",
    "            places=sorted(\n",
    "                places, key=lambda item: (-item[\"taste\"], -item[\"value\"], item[\"slug\"])\n",
    "            ),\n",
    "        )\n",
    "    )\n",
    "sitemap.insert(\n",
    "    2,\n",
    "    {\n",
    "        \"url\": f\"{SITE_URL}/best/\",\n",
    "        \"changefreq\": \"daily\",\n",
    "    },\n",
    ")\n",
    "\n",
    "\n",
    "## latest page\n",
    "latest_dir = build_dir / \"latest\"\n",
    "latest_dir.mkdir(exist_ok=True, parents=True)\n",
    "with open(latest_dir / \"index.html\", \"w\") as o:\n",
    "    o.write(\n",
    "        env.get_template(\"latest.html\").render(\n",
    "            title=\"Latest Reviews from The Good Taste Guide\",\n",
    "            description=\"Find tasty vegan food around New York City!\",\n",
    "            # sort by age then standard\n",
    "            places=sorted(\n",
    "                places,\n",
    "                key=lambda item: (\n",
    "                    item[\"review_age\"],\n",
    "                    -item[\"taste\"],\n",
    "                    -item[\"value\"],\n",
    "                    item[\"slug\"],\n",
    "                ),\n",
    "            ),\n",
    "        )\n",
    "    )\n",
    "sitemap.insert(\n",
    "    2,\n",
    "    {\n",
    "        \"url\": f\"{SITE_URL}/latest/\",\n",
    "        \"changefreq\": \"daily\",\n",
    "    },\n",
    ")\n",
    "\n",
    "cuisine_names = sorted(set([place[\"cuisine\"] for place in places]))\n",
    "\n",
    "cuisines_dir = build_dir / \"cuisines\"\n",
    "cuisines_dir.mkdir(exist_ok=True, parents=True)\n",
    "with open(cuisines_dir / \"index.html\", \"w\") as o:\n",
    "    o.write(\n",
    "        env.get_template(\"cuisine-list.html\").render(\n",
    "            cuisines=[\n",
    "                {\n",
    "                    \"name\": cuisine,\n",
    "                    \"url\": f\"/cuisines/{cuisine.lower().replace(' ','-')}\",\n",
    "                    \"len\": len(\n",
    "                        [place for place in places if place[\"cuisine\"] == cuisine]\n",
    "                    ),\n",
    "                }\n",
    "                for cuisine in cuisine_names\n",
    "            ]\n",
    "        )\n",
    "    )\n",
    "sitemap.insert(\n",
    "    2,\n",
    "    {\n",
    "        \"url\": f\"{SITE_URL}/cuisines/\",\n",
    "        \"changefreq\": \"daily\",\n",
    "    },\n",
    ")\n",
    "\n",
    "\n",
    "def format_cuisine_title(cuisine):\n",
    "    return f\"Vegan {cuisine} food in New York — The Good Taste Guide\"\n",
    "\n",
    "\n",
    "def format_cuisine_description(meta):\n",
    "    return f\"Read our reviews on vegan {cuisine} food and others in New York City from The Good Taste Guide!\"\n",
    "\n",
    "\n",
    "cuisine_template = env.get_template(\"cuisine.html\")\n",
    "\n",
    "for cuisine in cuisine_names:\n",
    "    slug = cuisine.lower().replace(\" \", \"-\")\n",
    "    cuisine_places = [place[\"name\"] for place in places if place[\"cuisine\"] == cuisine]\n",
    "    rendered = cuisine_template.render(\n",
    "        title=format_cuisine_title(cuisine),\n",
    "        description=format_cuisine_description(cuisine),\n",
    "        cuisine=cuisine,\n",
    "        places=sorted(\n",
    "            [place for place in places if place[\"cuisine\"] == cuisine],\n",
    "            key=lambda item: (-item[\"taste\"], -item[\"value\"], item[\"slug\"]),\n",
    "        ),\n",
    "    )\n",
    "    cuisine_dir = build_dir / \"cuisines\" / slug\n",
    "    cuisine_dir.mkdir(exist_ok=True, parents=True)\n",
    "    with open(cuisine_dir / \"index.html\", \"w\") as o:\n",
    "        o.write(rendered)\n",
    "\n",
    "    sitemap.append(\n",
    "        {\n",
    "            \"url\": f\"{SITE_URL}/cuisines/{slug}/\",\n",
    "            \"changefreq\": \"daily\",\n",
    "        }\n",
    "    )\n",
    "\n",
    "with open(build_dir / \"sitemap.xml\", \"w\") as o:\n",
    "    o.write(\n",
    "        env.get_template(\"sitemap.xml\").render(\n",
    "            urls=[\n",
    "                (\n",
    "                    item.get(\"url\"),\n",
    "                    item.get(\"lastmod\", date.today()),\n",
    "                    item.get(\"changefreq\"),\n",
    "                )\n",
    "                for item in sitemap\n",
    "            ]\n",
    "        )\n",
    "    )\n",
    "\n",
    "with open(build_dir / \"robots.txt\", \"w\") as o:\n",
    "    o.write(\"User-agent: *\\nDisallow:\\n\")\n",
    "\n",
    "print(f\"Done building tgtg with {len(places)} places\")\n"
   ]
  },
  {
   "cell_type": "code",
   "execution_count": 2,
   "id": "f82a5201",
   "metadata": {
    "ExecuteTime": {
     "end_time": "2022-06-20T19:06:25.060945Z",
     "start_time": "2022-06-20T19:06:25.049132Z"
    }
   },
   "outputs": [],
   "source": [
    "with open(build_dir / \"index.html\", \"w\") as o:\n",
    "    o.write(\n",
    "        env.get_template(\"map.html\").render(\n",
    "            title=\"The Good Taste Guide\",\n",
    "            description=\"Find tasty vegan food around New York City!\",\n",
    "            thumbnails=[\n",
    "                Path(\"img\") / \"thumb\" / file for file in (Path(\"static\") / \"img\" / \"thumb\").iterdir()\n",
    "                # f\"img/thumb/{file}\" for file in os.listdir(\"static/img/thumb/\")\n",
    "            ],\n",
    "        )\n",
    "    )\n",
    "sitemap.append(\n",
    "    {\n",
    "        \"url\": f\"{SITE_URL}/\",\n",
    "    }\n",
    ")\n"
   ]
  },
  {
   "cell_type": "code",
   "execution_count": 19,
   "id": "3beb45e2",
   "metadata": {
    "ExecuteTime": {
     "end_time": "2022-06-20T19:10:44.815405Z",
     "start_time": "2022-06-20T19:10:44.802171Z"
    }
   },
   "outputs": [
    {
     "data": {
      "text/plain": [
       "['img/thumb/raku.jpg',\n",
       " 'img/thumb/bunna-cafe.jpg',\n",
       " 'img/thumb/greene-bites.jpg',\n",
       " 'img/thumb/menya-jiro.jpg',\n",
       " 'img/thumb/mimi-chengs.jpg',\n",
       " 'img/thumb/electric-burrito.jpg',\n",
       " 'img/thumb/ginger-and-lemongrass.jpg',\n",
       " 'img/thumb/downtown-bakery.jpg',\n",
       " 'img/thumb/ivan-ramen.jpg',\n",
       " 'img/thumb/kings-co-imperial.jpg',\n",
       " 'img/thumb/yubu.jpg',\n",
       " 'img/thumb/ginger-root-vegan.jpg',\n",
       " 'img/thumb/hanoi-house.jpg',\n",
       " 'img/thumb/punjabi-deli.jpg',\n",
       " 'img/thumb/spicy-village.jpg',\n",
       " 'img/thumb/vanessas-dumpling-house.jpg',\n",
       " 'img/thumb/nefista.jpg',\n",
       " 'img/thumb/kimchee-market.jpg',\n",
       " 'img/thumb/pita-grill.jpg',\n",
       " 'img/thumb/jiangs-kitchen.jpg',\n",
       " 'img/thumb/oxomoco.jpg',\n",
       " 'img/thumb/tajeen-halal.jpg',\n",
       " 'img/thumb/raiz.jpg',\n",
       " 'img/thumb/sami-and-susu.jpg',\n",
       " 'img/thumb/cesars-empanadas.jpg',\n",
       " 'img/thumb/sammys-halal.jpg',\n",
       " 'img/thumb/mama-pho.jpg',\n",
       " 'img/thumb/dirt-candy.jpg',\n",
       " 'img/thumb/shu-jiao-fu-zhou.jpg',\n",
       " 'img/thumb/pak-punjab.jpg',\n",
       " 'img/thumb/ramen-ishida.jpg',\n",
       " 'img/thumb/old-xian.jpg',\n",
       " 'img/thumb/ny-dosas.jpg',\n",
       " 'img/thumb/udon-st-marks.jpg',\n",
       " 'img/thumb/cutlets-sandwich-co.jpg',\n",
       " 'img/thumb/dumpling-n-dips.jpg',\n",
       " 'img/thumb/somtum-der.jpg',\n",
       " 'img/thumb/brodo.jpg',\n",
       " 'img/thumb/polash.jpg',\n",
       " 'img/thumb/v-nam-cafe.jpg',\n",
       " 'img/thumb/wonderful-asian-restaurant.jpg',\n",
       " 'img/thumb/yaso-tangbao.jpg',\n",
       " 'img/thumb/streecha.jpg',\n",
       " 'img/thumb/zest.jpg',\n",
       " 'img/thumb/kook.jpg',\n",
       " 'img/thumb/bites-of-xian-ev.jpg',\n",
       " 'img/thumb/kents-dumpling-house.jpg',\n",
       " 'img/thumb/bites-of-xian.jpg',\n",
       " 'img/thumb/momo-ramen.jpg',\n",
       " 'img/thumb/north-dumpling.jpg',\n",
       " 'img/thumb/adyar-ananda-bhavan.jpg',\n",
       " 'img/thumb/ladybird.jpg',\n",
       " 'img/thumb/broccoli-bar.jpg',\n",
       " 'img/thumb/malai-marke.jpg',\n",
       " 'img/thumb/brooklyn-hero-shop.jpg',\n",
       " 'img/thumb/lhasa.jpg',\n",
       " 'img/thumb/banh-mi-zon.jpg',\n",
       " 'img/thumb/borrachito.jpg',\n",
       " 'img/thumb/yun-cafe.jpg',\n",
       " 'img/thumb/lovely-day.jpg',\n",
       " 'img/thumb/minca.jpg',\n",
       " 'img/thumb/sigiri.jpg',\n",
       " 'img/thumb/happy-veggie.jpg',\n",
       " 'img/thumb/mochii.jpg',\n",
       " 'img/thumb/brooklyn-dumpling-shop.jpg',\n",
       " 'img/thumb/manousheh-bleeker.jpg',\n",
       " 'img/thumb/mala-project.jpg',\n",
       " 'img/thumb/cafe-himalaya.jpg',\n",
       " 'img/thumb/xe-may.jpg',\n",
       " 'img/thumb/vspot-express.jpg',\n",
       " 'img/thumb/saigon-shack.jpg',\n",
       " 'img/thumb/famous-sichuan.jpg',\n",
       " 'img/thumb/kc-gourmet-empanadas.jpg',\n",
       " 'img/thumb/suki.jpg',\n",
       " 'img/thumb/san-marzano.jpg',\n",
       " 'img/thumb/love-mama.jpg',\n",
       " 'img/thumb/sea-thai.jpg',\n",
       " 'img/thumb/yefsi-estiatorio.jpg',\n",
       " 'img/thumb/mr-taka.jpg',\n",
       " 'img/thumb/shimiaodao.jpg',\n",
       " 'img/thumb/vegan-on-the-fly.jpg',\n",
       " 'img/thumb/brooklyn-nuts.jpg',\n",
       " 'img/thumb/5ive-spice.jpg',\n",
       " 'img/thumb/chi-dumpling-house.jpg',\n",
       " 'img/thumb/the-braised-shop.jpg',\n",
       " 'img/thumb/tasty-hand-pulled-noodles.jpg',\n",
       " 'img/thumb/b-and-h-dairy.jpg',\n",
       " 'img/thumb/two-boots.jpg',\n",
       " 'img/thumb/bbq-stand.jpg',\n",
       " 'img/thumb/diller.jpg',\n",
       " 'img/thumb/yaya-tea.jpg',\n",
       " 'img/thumb/desi-galli.jpg',\n",
       " 'img/thumb/tramezzini.jpg',\n",
       " 'img/thumb/cafedelia.jpg',\n",
       " 'img/thumb/lava-shawarma.jpg',\n",
       " 'img/thumb/dumpling-man.jpg',\n",
       " 'img/thumb/frank.jpg',\n",
       " 'img/thumb/orchard-grocer.jpg',\n",
       " 'img/thumb/los-tacos-nyc.jpg',\n",
       " 'img/thumb/paulie-gees-slice-shop.jpg',\n",
       " 'img/thumb/nyc-falafel-co.jpg',\n",
       " 'img/thumb/beyond-sushi.jpg',\n",
       " 'img/thumb/the-tang.jpg',\n",
       " 'img/thumb/dim-sum-palace.jpg',\n",
       " 'img/thumb/strings-ramen.jpg',\n",
       " 'img/thumb/yonah-schimmels-knish.jpg',\n",
       " 'img/thumb/tabetomo.jpg',\n",
       " 'img/thumb/pierogi-boys.jpg',\n",
       " 'img/thumb/trapizzino.jpg',\n",
       " 'img/thumb/manousheh-grand.jpg',\n",
       " 'img/thumb/fong-on.jpg',\n",
       " 'img/thumb/khiladi.jpg',\n",
       " 'img/thumb/mia-halal-food.jpg',\n",
       " 'img/thumb/planta-queen.jpg',\n",
       " 'img/thumb/banh-mi-co-ut.jpg',\n",
       " 'img/thumb/king-dumplings.jpg',\n",
       " 'img/thumb/the-bao.jpg',\n",
       " 'img/thumb/spicy-moon-east-village.jpg',\n",
       " 'img/thumb/stick-to-my-pot.jpg',\n",
       " 'img/thumb/little-rascal.jpg',\n",
       " 'img/thumb/san-loco.jpg',\n",
       " 'img/thumb/smac.jpg',\n",
       " 'img/thumb/dosa-royale.jpg']"
      ]
     },
     "execution_count": 19,
     "metadata": {},
     "output_type": "execute_result"
    }
   ],
   "source": [
    "[str(Path(*file.parts[1:])) for file in (Path(\"static\") / \"img\" / \"thumb\").iterdir()]"
   ]
  },
  {
   "cell_type": "code",
   "execution_count": 15,
   "id": "1974ef5d",
   "metadata": {
    "ExecuteTime": {
     "end_time": "2022-06-20T19:09:05.081709Z",
     "start_time": "2022-06-20T19:09:05.074918Z"
    }
   },
   "outputs": [
    {
     "data": {
      "text/plain": [
       "PosixPath('img/thumb/raku.jpg')"
      ]
     },
     "execution_count": 15,
     "metadata": {},
     "output_type": "execute_result"
    }
   ],
   "source": [
    "Path(*i.parts[1:])"
   ]
  },
  {
   "cell_type": "code",
   "execution_count": null,
   "id": "8c915df3",
   "metadata": {},
   "outputs": [],
   "source": [
    "def get_fp_food_image(slug):\n",
    "    static_fp = Path(\"img\") / \"food\" / f\"{slug}.jpg\"\n",
    "    return f\"/{static_fp}\" if (Path(\"static\") / static_fp).exists() else None"
   ]
  },
  {
   "cell_type": "code",
   "execution_count": null,
   "id": "ace30db4",
   "metadata": {},
   "outputs": [],
   "source": [
    "    static_fp = Path(f\"/img/food/{slug}.jpg\")\n",
    "    return str(static_fp) if (Path(\"static\") / static_fp).exists() else None"
   ]
  },
  {
   "cell_type": "code",
   "execution_count": 30,
   "id": "66f3c5b7",
   "metadata": {
    "ExecuteTime": {
     "end_time": "2022-06-20T19:39:56.525150Z",
     "start_time": "2022-06-20T19:39:56.517743Z"
    }
   },
   "outputs": [],
   "source": [
    "slug = \"brodo\""
   ]
  },
  {
   "cell_type": "code",
   "execution_count": 46,
   "id": "88f3b136",
   "metadata": {
    "ExecuteTime": {
     "end_time": "2022-06-20T19:44:26.515790Z",
     "start_time": "2022-06-20T19:44:26.509703Z"
    }
   },
   "outputs": [],
   "source": [
    "# def get_fp_food_image(slug):\n",
    "#     static_fp = f\"/img/food/{slug}.jpg\"\n",
    "#     return static_fp if Path(f\"static{static_fp}\").exists() else None\n",
    "\n",
    "def get_fp_food_image(slug):\n",
    "    static_fp = Path(f\"img/food/{slug}.jpg\")\n",
    "    str(Path(f\"/{static_fp}\")) if (Path(\"static\") / static_fp).exists() else None\n"
   ]
  },
  {
   "cell_type": "code",
   "execution_count": null,
   "id": "82cb55a0",
   "metadata": {},
   "outputs": [],
   "source": [
    "def get_fp_food_image(slug):\n",
    "    static_fp = f\"/img/food/{slug}.jpg\"\n",
    "    return str(Path(static_fp)) if Path(f\"static{static_fp}\")"
   ]
  },
  {
   "cell_type": "code",
   "execution_count": 56,
   "id": "65b6aa28",
   "metadata": {
    "ExecuteTime": {
     "end_time": "2022-06-20T19:55:22.643417Z",
     "start_time": "2022-06-20T19:55:20.381346Z"
    }
   },
   "outputs": [
    {
     "name": "stderr",
     "output_type": "stream",
     "text": [
      "processing memes: 100%|███████████████████████████████████████████████████████████| 83/83 [00:02<00:00, 36.87it/s]\n"
     ]
    }
   ],
   "source": [
    "for meme_id, raw_meme in enumerate(\n",
    "    tqdm(glob.glob(\"raw/memes/*\"), desc=\"processing memes\")\n",
    "):\n",
    "    fp = Path(f\"img/memes/{meme_id}.jpg\")\n",
    "    with Image.open(raw_meme) as im:\n",
    "        if im.mode == \"RGBA\":\n",
    "            im = im.convert(\"RGB\")\n",
    "        im.save(fp=Path(\"static\") / fp, format=\"JPEG\", quality=jpg_quality)\n",
    "n_memes = meme_id + 1"
   ]
  },
  {
   "cell_type": "code",
   "execution_count": 71,
   "id": "5424df65",
   "metadata": {
    "ExecuteTime": {
     "end_time": "2022-06-20T19:58:41.201414Z",
     "start_time": "2022-06-20T19:58:38.951220Z"
    }
   },
   "outputs": [
    {
     "name": "stderr",
     "output_type": "stream",
     "text": [
      "processing memes: 100%|███████████████████████████████████████████████████████████| 83/83 [00:02<00:00, 37.05it/s]\n"
     ]
    }
   ],
   "source": [
    "for meme_id, raw_meme in enumerate(\n",
    "    tqdm(list(Path(\"raw/memes\").glob(\"*\")), desc=\"processing memes\")\n",
    "):\n",
    "    fp = Path(f\"img/memes/{meme_id}.jpg\")\n",
    "    with Image.open(raw_meme) as im:\n",
    "        if im.mode == \"RGBA\":\n",
    "            im = im.convert(\"RGB\")\n",
    "        im.save(fp=Path(\"static\") / fp, format=\"JPEG\", quality=jpg_quality)\n",
    "n_memes = meme_id + 1"
   ]
  },
  {
   "cell_type": "code",
   "execution_count": 96,
   "id": "1b73052c",
   "metadata": {
    "ExecuteTime": {
     "end_time": "2022-06-20T20:14:15.342164Z",
     "start_time": "2022-06-20T20:14:15.325311Z"
    }
   },
   "outputs": [
    {
     "name": "stderr",
     "output_type": "stream",
     "text": [
      "processing food images: 100%|████████████████████████████████████████████████| 123/123 [00:00<00:00, 24249.09it/s]\n"
     ]
    }
   ],
   "source": [
    "for raw_jpg in tqdm(list(Path(\"raw/food\").glob(\"*.jpg\")), desc=\"processing food images\"):\n",
    "    file_name = raw_jpg.parts[-1]\n",
    "    static_fp = Path(f\"img/food\") / file_name\n",
    "    thumb_fp = Path(f\"img/thumb\") / file_name"
   ]
  },
  {
   "cell_type": "code",
   "execution_count": 98,
   "id": "133307e2",
   "metadata": {
    "ExecuteTime": {
     "end_time": "2022-06-20T20:15:44.655392Z",
     "start_time": "2022-06-20T20:15:44.642083Z"
    }
   },
   "outputs": [],
   "source": [
    "for place_md in glob.glob(\"places/*.md\"):\n",
    "    slug = place_md[7:-3]\n",
    "    assert re.match(r\"^[0-9a-z-]+$\", slug), \"Bad filename for \" + place_md\n",
    "    relative_url = f\"/places/{slug}/\"\n",
    "    with open(place_md) as f:\n",
    "        _, frontmatter, md = f.read().split(\"---\", 2)"
   ]
  },
  {
   "cell_type": "code",
   "execution_count": 116,
   "id": "4b4876fc",
   "metadata": {
    "ExecuteTime": {
     "end_time": "2022-06-20T20:20:03.859061Z",
     "start_time": "2022-06-20T20:20:03.852005Z"
    }
   },
   "outputs": [
    {
     "data": {
      "text/plain": [
       "True"
      ]
     },
     "execution_count": 116,
     "metadata": {},
     "output_type": "execute_result"
    }
   ],
   "source": [
    "Path(\"static\") == Path(\"static/\")"
   ]
  },
  {
   "cell_type": "code",
   "execution_count": 110,
   "id": "0a368503",
   "metadata": {
    "ExecuteTime": {
     "end_time": "2022-06-20T20:17:50.796823Z",
     "start_time": "2022-06-20T20:17:50.781132Z"
    }
   },
   "outputs": [],
   "source": [
    "for place_md in Path(\"places\").glob(\"*.md\"):\n",
    "    slug = place_md.parts[-1][:-3]\n",
    "    assert re.match(r\"^[0-9a-z-]+$\", slug), \"Bad filename for \" + str(place_md)\n",
    "    relative_url = f\"/places/{slug}/\"\n",
    "    with open(place_md) as f:\n",
    "        _, frontmatter, md = f.read().split(\"---\", 2)"
   ]
  },
  {
   "cell_type": "code",
   "execution_count": 108,
   "id": "40846edd",
   "metadata": {
    "ExecuteTime": {
     "end_time": "2022-06-20T20:17:05.391511Z",
     "start_time": "2022-06-20T20:17:05.383901Z"
    }
   },
   "outputs": [
    {
     "data": {
      "text/plain": [
       "'banh'"
      ]
     },
     "execution_count": 108,
     "metadata": {},
     "output_type": "execute_result"
    }
   ],
   "source": [
    "place_md.parts[-1][:-3]"
   ]
  },
  {
   "cell_type": "code",
   "execution_count": null,
   "id": "b7b2a937",
   "metadata": {},
   "outputs": [],
   "source": []
  },
  {
   "cell_type": "code",
   "execution_count": null,
   "id": "a9de9339",
   "metadata": {},
   "outputs": [],
   "source": []
  },
  {
   "cell_type": "code",
   "execution_count": null,
   "id": "2f37936d",
   "metadata": {},
   "outputs": [],
   "source": []
  },
  {
   "cell_type": "code",
   "execution_count": null,
   "id": "962aabea",
   "metadata": {},
   "outputs": [],
   "source": []
  },
  {
   "cell_type": "code",
   "execution_count": null,
   "id": "ecc751e6",
   "metadata": {},
   "outputs": [],
   "source": [
    "for place_md in glob.glob(\"places/*.md\"):\n",
    "    slug = place_md[7:-3]\n",
    "    assert re.match(r\"^[0-9a-z-]+$\", slug), \"Bad filename for \" + place_md\n",
    "    relative_url = f\"/places/{slug}/\"\n",
    "    with open(place_md) as f:\n",
    "        _, frontmatter, md = f.read().split(\"---\", 2)\n",
    "    meta = yaml.load(frontmatter, Loader=yaml.Loader)\n",
    "    meta[\"url\"] = relative_url\n",
    "    meta[\"slug\"] = slug\n",
    "    meta[\"geodata\"] = format_geodata(meta)\n",
    "    meta[\"phone_display\"] = format_phone_number(meta)\n",
    "    visited = date.fromisoformat(meta[\"visited\"])\n",
    "    meta[\"visited_display\"] = format_visited(visited)\n",
    "    meta[\"review_age\"] = (date.today() - visited).days\n",
    "    if meta[\"taste\"] == 1:\n",
    "        assert \"sgfi\" in meta, f\"{meta['slug']} missing sgfi\"\n",
    "        assert meta[\"sgfi\"] is not None, f\"{meta['slug']} missing sgfi\"\n",
    "    if meta[\"taste\"] >= 1:\n",
    "        assert \"**\" in md, f\"highlight food in {meta['slug']}\"\n",
    "    meta[\"taste_label\"], meta[\"taste_color\"] = rating_to_formatting(\n",
    "        meta[\"taste\"], taste_labels\n",
    "    )\n",
    "    meta[\"value_label\"], meta[\"value_color\"] = rating_to_formatting(\n",
    "        meta[\"value\"], value_labels\n",
    "    )\n",
    "    meta[\"drinks_label\"], meta[\"drinks_color\"] = boolean_to_formatting(meta[\"drinks\"])\n",
    "    html = markdown(md.strip())\n",
    "    meta[\"blurb\"] = format_blurb(md)\n",
    "    meta[\"food_image_path\"] = get_fp_food_image(slug)\n",
    "    meta[\"food_thumb_path\"] = get_fp_food_thumb(slug)\n",
    "    rendered = place_template.render(\n",
    "        **meta,\n",
    "        title=format_title(meta),\n",
    "        description=format_description(meta),\n",
    "        taste_html=rating_html(meta[\"taste\"], taste_labels),\n",
    "        value_html=rating_html(meta[\"value\"], value_labels),\n",
    "        drinks_html=boolean_html(meta[\"drinks\"]),\n",
    "        content=html,\n",
    "        n_memes=n_memes,\n",
    "    )\n",
    "    out_dir = build_dir / \"places\" / slug\n",
    "    out_dir.mkdir(exist_ok=True, parents=True)\n",
    "    with open(out_dir / \"index.html\", \"w\") as o:\n",
    "        o.write(rendered)\n",
    "    places.append(meta)\n",
    "\n",
    "    sitemap.append(\n",
    "        {\n",
    "            \"url\": f\"{SITE_URL}{relative_url}\",\n",
    "            \"lastmod\": visited,\n",
    "        }\n",
    "    )"
   ]
  },
  {
   "cell_type": "code",
   "execution_count": null,
   "id": "331b800f",
   "metadata": {},
   "outputs": [],
   "source": []
  },
  {
   "cell_type": "code",
   "execution_count": 83,
   "id": "2ac425f3",
   "metadata": {
    "ExecuteTime": {
     "end_time": "2022-06-20T20:03:03.325018Z",
     "start_time": "2022-06-20T20:03:03.311149Z"
    }
   },
   "outputs": [
    {
     "name": "stderr",
     "output_type": "stream",
     "text": [
      "processing food images: 100%|████████████████████████████████████████████████| 123/123 [00:00<00:00, 58538.45it/s]\n"
     ]
    }
   ],
   "source": [
    "for raw_jpg in tqdm(glob.glob(\"raw/food/*.jpg\"), desc=\"processing food images\"):\n",
    "    static_fp = Path(f\"img/food/{raw_jpg[9:-4]}.jpg\")\n",
    "    thumb_fp = Path(f\"img/thumb/{raw_jpg[9:-4]}.jpg\")"
   ]
  },
  {
   "cell_type": "code",
   "execution_count": 84,
   "id": "a73d95ce",
   "metadata": {
    "ExecuteTime": {
     "end_time": "2022-06-20T20:03:06.229187Z",
     "start_time": "2022-06-20T20:03:06.222085Z"
    }
   },
   "outputs": [
    {
     "data": {
      "text/plain": [
       "PosixPath('img/food/dosa-royale.jpg')"
      ]
     },
     "execution_count": 84,
     "metadata": {},
     "output_type": "execute_result"
    }
   ],
   "source": [
    "static_fp"
   ]
  },
  {
   "cell_type": "code",
   "execution_count": 86,
   "id": "300bd55b",
   "metadata": {
    "ExecuteTime": {
     "end_time": "2022-06-20T20:03:34.873978Z",
     "start_time": "2022-06-20T20:03:34.868300Z"
    }
   },
   "outputs": [
    {
     "data": {
      "text/plain": [
       "'dosa-royale'"
      ]
     },
     "execution_count": 86,
     "metadata": {},
     "output_type": "execute_result"
    }
   ],
   "source": [
    "raw_jpg[9:-4]"
   ]
  },
  {
   "cell_type": "code",
   "execution_count": null,
   "id": "bfdaac2d",
   "metadata": {},
   "outputs": [],
   "source": []
  },
  {
   "cell_type": "code",
   "execution_count": 74,
   "id": "3cffc954",
   "metadata": {
    "ExecuteTime": {
     "end_time": "2022-06-20T19:59:48.516552Z",
     "start_time": "2022-06-20T19:59:48.506298Z"
    }
   },
   "outputs": [
    {
     "data": {
      "text/plain": [
       "['raw/food/raku.jpg',\n",
       " 'raw/food/bunna-cafe.jpg',\n",
       " 'raw/food/greene-bites.jpg',\n",
       " 'raw/food/menya-jiro.jpg',\n",
       " 'raw/food/mimi-chengs.jpg',\n",
       " 'raw/food/electric-burrito.jpg',\n",
       " 'raw/food/ginger-and-lemongrass.jpg',\n",
       " 'raw/food/downtown-bakery.jpg',\n",
       " 'raw/food/ivan-ramen.jpg',\n",
       " 'raw/food/kings-co-imperial.jpg',\n",
       " 'raw/food/yubu.jpg',\n",
       " 'raw/food/ginger-root-vegan.jpg',\n",
       " 'raw/food/hanoi-house.jpg',\n",
       " 'raw/food/punjabi-deli.jpg',\n",
       " 'raw/food/spicy-village.jpg',\n",
       " 'raw/food/vanessas-dumpling-house.jpg',\n",
       " 'raw/food/nefista.jpg',\n",
       " 'raw/food/kimchee-market.jpg',\n",
       " 'raw/food/pita-grill.jpg',\n",
       " 'raw/food/jiangs-kitchen.jpg',\n",
       " 'raw/food/oxomoco.jpg',\n",
       " 'raw/food/tajeen-halal.jpg',\n",
       " 'raw/food/raiz.jpg',\n",
       " 'raw/food/sami-and-susu.jpg',\n",
       " 'raw/food/cesars-empanadas.jpg',\n",
       " 'raw/food/sammys-halal.jpg',\n",
       " 'raw/food/mama-pho.jpg',\n",
       " 'raw/food/dirt-candy.jpg',\n",
       " 'raw/food/shu-jiao-fu-zhou.jpg',\n",
       " 'raw/food/pak-punjab.jpg',\n",
       " 'raw/food/ramen-ishida.jpg',\n",
       " 'raw/food/old-xian.jpg',\n",
       " 'raw/food/ny-dosas.jpg',\n",
       " 'raw/food/udon-st-marks.jpg',\n",
       " 'raw/food/cutlets-sandwich-co.jpg',\n",
       " 'raw/food/dumpling-n-dips.jpg',\n",
       " 'raw/food/somtum-der.jpg',\n",
       " 'raw/food/brodo.jpg',\n",
       " 'raw/food/polash.jpg',\n",
       " 'raw/food/v-nam-cafe.jpg',\n",
       " 'raw/food/wonderful-asian-restaurant.jpg',\n",
       " 'raw/food/yaso-tangbao.jpg',\n",
       " 'raw/food/streecha.jpg',\n",
       " 'raw/food/zest.jpg',\n",
       " 'raw/food/kook.jpg',\n",
       " 'raw/food/bites-of-xian-ev.jpg',\n",
       " 'raw/food/kents-dumpling-house.jpg',\n",
       " 'raw/food/bites-of-xian.jpg',\n",
       " 'raw/food/momo-ramen.jpg',\n",
       " 'raw/food/north-dumpling.jpg',\n",
       " 'raw/food/adyar-ananda-bhavan.jpg',\n",
       " 'raw/food/ladybird.jpg',\n",
       " 'raw/food/broccoli-bar.jpg',\n",
       " 'raw/food/malai-marke.jpg',\n",
       " 'raw/food/brooklyn-hero-shop.jpg',\n",
       " 'raw/food/lhasa.jpg',\n",
       " 'raw/food/banh-mi-zon.jpg',\n",
       " 'raw/food/borrachito.jpg',\n",
       " 'raw/food/yun-cafe.jpg',\n",
       " 'raw/food/lovely-day.jpg',\n",
       " 'raw/food/minca.jpg',\n",
       " 'raw/food/sigiri.jpg',\n",
       " 'raw/food/happy-veggie.jpg',\n",
       " 'raw/food/mochii.jpg',\n",
       " 'raw/food/brooklyn-dumpling-shop.jpg',\n",
       " 'raw/food/manousheh-bleeker.jpg',\n",
       " 'raw/food/mala-project.jpg',\n",
       " 'raw/food/cafe-himalaya.jpg',\n",
       " 'raw/food/xe-may.jpg',\n",
       " 'raw/food/vspot-express.jpg',\n",
       " 'raw/food/saigon-shack.jpg',\n",
       " 'raw/food/famous-sichuan.jpg',\n",
       " 'raw/food/kc-gourmet-empanadas.jpg',\n",
       " 'raw/food/suki.jpg',\n",
       " 'raw/food/san-marzano.jpg',\n",
       " 'raw/food/love-mama.jpg',\n",
       " 'raw/food/sea-thai.jpg',\n",
       " 'raw/food/yefsi-estiatorio.jpg',\n",
       " 'raw/food/mr-taka.jpg',\n",
       " 'raw/food/shimiaodao.jpg',\n",
       " 'raw/food/vegan-on-the-fly.jpg',\n",
       " 'raw/food/brooklyn-nuts.jpg',\n",
       " 'raw/food/5ive-spice.jpg',\n",
       " 'raw/food/chi-dumpling-house.jpg',\n",
       " 'raw/food/the-braised-shop.jpg',\n",
       " 'raw/food/tasty-hand-pulled-noodles.jpg',\n",
       " 'raw/food/b-and-h-dairy.jpg',\n",
       " 'raw/food/two-boots.jpg',\n",
       " 'raw/food/bbq-stand.jpg',\n",
       " 'raw/food/diller.jpg',\n",
       " 'raw/food/yaya-tea.jpg',\n",
       " 'raw/food/desi-galli.jpg',\n",
       " 'raw/food/tramezzini.jpg',\n",
       " 'raw/food/cafedelia.jpg',\n",
       " 'raw/food/lava-shawarma.jpg',\n",
       " 'raw/food/dumpling-man.jpg',\n",
       " 'raw/food/frank.jpg',\n",
       " 'raw/food/orchard-grocer.jpg',\n",
       " 'raw/food/los-tacos-nyc.jpg',\n",
       " 'raw/food/paulie-gees-slice-shop.jpg',\n",
       " 'raw/food/nyc-falafel-co.jpg',\n",
       " 'raw/food/beyond-sushi.jpg',\n",
       " 'raw/food/the-tang.jpg',\n",
       " 'raw/food/dim-sum-palace.jpg',\n",
       " 'raw/food/strings-ramen.jpg',\n",
       " 'raw/food/yonah-schimmels-knish.jpg',\n",
       " 'raw/food/tabetomo.jpg',\n",
       " 'raw/food/pierogi-boys.jpg',\n",
       " 'raw/food/trapizzino.jpg',\n",
       " 'raw/food/manousheh-grand.jpg',\n",
       " 'raw/food/fong-on.jpg',\n",
       " 'raw/food/khiladi.jpg',\n",
       " 'raw/food/mia-halal-food.jpg',\n",
       " 'raw/food/planta-queen.jpg',\n",
       " 'raw/food/banh-mi-co-ut.jpg',\n",
       " 'raw/food/king-dumplings.jpg',\n",
       " 'raw/food/the-bao.jpg',\n",
       " 'raw/food/spicy-moon-east-village.jpg',\n",
       " 'raw/food/stick-to-my-pot.jpg',\n",
       " 'raw/food/little-rascal.jpg',\n",
       " 'raw/food/san-loco.jpg',\n",
       " 'raw/food/smac.jpg',\n",
       " 'raw/food/dosa-royale.jpg']"
      ]
     },
     "execution_count": 74,
     "metadata": {},
     "output_type": "execute_result"
    }
   ],
   "source": [
    "glob.glob(\"raw/food/*.jpg\")"
   ]
  },
  {
   "cell_type": "code",
   "execution_count": null,
   "id": "01da1f30",
   "metadata": {},
   "outputs": [],
   "source": []
  },
  {
   "cell_type": "code",
   "execution_count": null,
   "id": "6e847822",
   "metadata": {},
   "outputs": [],
   "source": [
    ">>> list(p.glob('**/*.py'))\n",
    "[PosixPath('test_pathlib.py'), PosixPath('setup.py'),\n",
    " PosixPath('pathlib.py'), PosixPath('docs/conf.py'),\n",
    " PosixPath('build/lib/pathlib.py')]"
   ]
  },
  {
   "cell_type": "code",
   "execution_count": 65,
   "id": "296144dc",
   "metadata": {
    "ExecuteTime": {
     "end_time": "2022-06-20T19:57:02.080067Z",
     "start_time": "2022-06-20T19:57:02.068219Z"
    }
   },
   "outputs": [
    {
     "data": {
      "text/plain": [
       "[PosixPath('raw/memes/signal-2020-11-24-15-43-08-120 (1).jpg'),\n",
       " PosixPath('raw/memes/signal-2021-05-09-10-38-24-544.jpg'),\n",
       " PosixPath('raw/memes/signal-2020-07-30-21-32-01-365.png'),\n",
       " PosixPath('raw/memes/signal-2020-11-19-12-30-50-443 (1).jpg'),\n",
       " PosixPath('raw/memes/signal-2021-03-03-07-50-35-954.jpg'),\n",
       " PosixPath('raw/memes/rif-1640826505880.jpg'),\n",
       " PosixPath('raw/memes/signal-2020-08-08-21-17-54-043.png'),\n",
       " PosixPath('raw/memes/signal-2020-09-10-14-05-04-251 (1).jpg'),\n",
       " PosixPath('raw/memes/signal-2020-10-16-12-14-13-276.png'),\n",
       " PosixPath('raw/memes/FB_IMG_1642957455771.jpg'),\n",
       " PosixPath('raw/memes/rif-1640826291598.jpg'),\n",
       " PosixPath('raw/memes/signal-2021-02-07-19-09-52-630.png'),\n",
       " PosixPath('raw/memes/signal-2020-08-25-16-51-18-695.png'),\n",
       " PosixPath('raw/memes/ht5l4e4vna251.jpg'),\n",
       " PosixPath('raw/memes/cmvaggrehal41.jpg'),\n",
       " PosixPath('raw/memes/signal-2020-12-08-18-26-39-072.jpg'),\n",
       " PosixPath('raw/memes/272331257_10158296367341571_5973486329590379169_n.jpg'),\n",
       " PosixPath('raw/memes/rif-1640826720896.jpg'),\n",
       " PosixPath('raw/memes/signal-2021-04-02-10-46-11-979.jpg'),\n",
       " PosixPath('raw/memes/signal-2020-11-24-21-46-04-106.jpg'),\n",
       " PosixPath('raw/memes/signal-2020-08-19-19-08-47-695.png'),\n",
       " PosixPath('raw/memes/rif-1640825692071.jpg'),\n",
       " PosixPath('raw/memes/rif-1640826981416.jpg'),\n",
       " PosixPath('raw/memes/signal-2021-09-02-11-10-07-720.jpg'),\n",
       " PosixPath('raw/memes/rif-1640826581142.jpg'),\n",
       " PosixPath('raw/memes/FB_IMG_1642957565981.jpg'),\n",
       " PosixPath('raw/memes/rif-1640826203692.jpg'),\n",
       " PosixPath('raw/memes/signal-2021-04-02-10-29-23-467.jpg'),\n",
       " PosixPath('raw/memes/rif-1640825296342.jpg'),\n",
       " PosixPath('raw/memes/rif-1640826135783.jpg'),\n",
       " PosixPath('raw/memes/rif-1640825945664.jpg'),\n",
       " PosixPath('raw/memes/signal-2020-10-06-18-58-53-404 (1).jpg'),\n",
       " PosixPath('raw/memes/signal-2020-10-30-21-18-56-870.jpg'),\n",
       " PosixPath('raw/memes/signal-2021-12-06-10-44-53-707.jpg'),\n",
       " PosixPath('raw/memes/rif-1640825587167.jpg'),\n",
       " PosixPath('raw/memes/rif-1640825656608.jpg'),\n",
       " PosixPath('raw/memes/rif-1640826037411.jpg'),\n",
       " PosixPath('raw/memes/rif-1640825777764.jpg'),\n",
       " PosixPath('raw/memes/signal-2020-12-28-10-32-33-820.png'),\n",
       " PosixPath('raw/memes/signal-2020-07-29-09-46-27-079.jpg'),\n",
       " PosixPath('raw/memes/signal-2020-12-20-09-48-12-736.jpg'),\n",
       " PosixPath('raw/memes/signal-2020-08-20-19-37-56-217.png'),\n",
       " PosixPath('raw/memes/6mwhjwzxei951.jpg'),\n",
       " PosixPath('raw/memes/rif-1640824534587.jpg'),\n",
       " PosixPath('raw/memes/signal-2020-09-11-22-35-30-475.png'),\n",
       " PosixPath('raw/memes/signal-2021-12-24-015626_001.png'),\n",
       " PosixPath('raw/memes/signal-2020-08-24-14-53-49-673.png'),\n",
       " PosixPath('raw/memes/signal-2021-07-10-11-32-29-819.jpg'),\n",
       " PosixPath('raw/memes/rif-1640827162172.jpg'),\n",
       " PosixPath('raw/memes/signal-2021-08-11-21-25-22-525.jpg'),\n",
       " PosixPath('raw/memes/signal-2020-09-23-01-34-38-961.jpg'),\n",
       " PosixPath('raw/memes/rif-1640824681644.jpg'),\n",
       " PosixPath('raw/memes/rif-1640825639585.jpg'),\n",
       " PosixPath('raw/memes/signal-2020-08-01-13-03-49-703.png'),\n",
       " PosixPath('raw/memes/signal-2020-08-25-16-50-16-260.png'),\n",
       " PosixPath('raw/memes/signal-2021-02-02-19-41-15-152.jpg'),\n",
       " PosixPath('raw/memes/signal-2021-08-20-07-57-49-282.png'),\n",
       " PosixPath('raw/memes/rif-1640825484276.jpg'),\n",
       " PosixPath('raw/memes/signal-2021-02-05-19-18-20-768.png'),\n",
       " PosixPath('raw/memes/signal-2021-06-30-18-29-04-467.jpg'),\n",
       " PosixPath('raw/memes/signal-2020-09-10-14-00-20-922 (1).jpg'),\n",
       " PosixPath('raw/memes/rif-1640824778517.jpg'),\n",
       " PosixPath('raw/memes/signal-2020-09-14-09-43-11-271.jpg'),\n",
       " PosixPath('raw/memes/rif-1640825702089.jpg'),\n",
       " PosixPath('raw/memes/rif-1640825680204.jpg'),\n",
       " PosixPath('raw/memes/signal-2021-01-12-12-39-38-728 (1).jpg'),\n",
       " PosixPath('raw/memes/rif-1640826108075.jpg'),\n",
       " PosixPath('raw/memes/signal-2020-10-16-12-00-35-751.png'),\n",
       " PosixPath('raw/memes/signal-2021-05-08-10-47-59-761 (2).jpg'),\n",
       " PosixPath('raw/memes/signal-2020-08-25-20-11-17-672.png'),\n",
       " PosixPath('raw/memes/rif-1640825356658.jpg'),\n",
       " PosixPath('raw/memes/6yl4gmavfrv41.jpg'),\n",
       " PosixPath('raw/memes/signal-2020-12-03-22-01-55-030 (1).jpg'),\n",
       " PosixPath('raw/memes/signal-2021-05-08-10-47-27-166.jpg'),\n",
       " PosixPath('raw/memes/signal-2021-02-06-11-15-43-240.png'),\n",
       " PosixPath('raw/memes/rif-1640826320084.jpg'),\n",
       " PosixPath('raw/memes/signal-2020-12-30-11-00-41-796 (1).jpg'),\n",
       " PosixPath('raw/memes/signal-2021-02-08-16-23-15-373.jpg'),\n",
       " PosixPath('raw/memes/signal-2021-12-24-000420.png'),\n",
       " PosixPath('raw/memes/signal-2021-02-03-17-30-44-569 (1).jpg'),\n",
       " PosixPath('raw/memes/signal-2021-02-03-17-29-58-721.jpg'),\n",
       " PosixPath('raw/memes/signal-2021-04-02-10-29-47-442.jpg'),\n",
       " PosixPath('raw/memes/signal-2020-12-22-23-01-19-884 (1).jpg')]"
      ]
     },
     "execution_count": 65,
     "metadata": {},
     "output_type": "execute_result"
    }
   ],
   "source": [
    "[f for f in Path(\"raw/memes\").glob(\"*\")]"
   ]
  },
  {
   "cell_type": "code",
   "execution_count": null,
   "id": "bed87c9a",
   "metadata": {},
   "outputs": [],
   "source": []
  },
  {
   "cell_type": "code",
   "execution_count": null,
   "id": "9e8a7248",
   "metadata": {},
   "outputs": [],
   "source": []
  },
  {
   "cell_type": "code",
   "execution_count": null,
   "id": "6c951467",
   "metadata": {},
   "outputs": [],
   "source": []
  },
  {
   "cell_type": "code",
   "execution_count": 57,
   "id": "d216f894",
   "metadata": {
    "ExecuteTime": {
     "end_time": "2022-06-20T19:55:44.320085Z",
     "start_time": "2022-06-20T19:55:44.309810Z"
    }
   },
   "outputs": [
    {
     "data": {
      "text/plain": [
       "['raw/memes/signal-2020-11-24-15-43-08-120 (1).jpg',\n",
       " 'raw/memes/signal-2021-05-09-10-38-24-544.jpg',\n",
       " 'raw/memes/signal-2020-07-30-21-32-01-365.png',\n",
       " 'raw/memes/signal-2020-11-19-12-30-50-443 (1).jpg',\n",
       " 'raw/memes/signal-2021-03-03-07-50-35-954.jpg',\n",
       " 'raw/memes/rif-1640826505880.jpg',\n",
       " 'raw/memes/signal-2020-08-08-21-17-54-043.png',\n",
       " 'raw/memes/signal-2020-09-10-14-05-04-251 (1).jpg',\n",
       " 'raw/memes/signal-2020-10-16-12-14-13-276.png',\n",
       " 'raw/memes/FB_IMG_1642957455771.jpg',\n",
       " 'raw/memes/rif-1640826291598.jpg',\n",
       " 'raw/memes/signal-2021-02-07-19-09-52-630.png',\n",
       " 'raw/memes/signal-2020-08-25-16-51-18-695.png',\n",
       " 'raw/memes/ht5l4e4vna251.jpg',\n",
       " 'raw/memes/cmvaggrehal41.jpg',\n",
       " 'raw/memes/signal-2020-12-08-18-26-39-072.jpg',\n",
       " 'raw/memes/272331257_10158296367341571_5973486329590379169_n.jpg',\n",
       " 'raw/memes/rif-1640826720896.jpg',\n",
       " 'raw/memes/signal-2021-04-02-10-46-11-979.jpg',\n",
       " 'raw/memes/signal-2020-11-24-21-46-04-106.jpg',\n",
       " 'raw/memes/signal-2020-08-19-19-08-47-695.png',\n",
       " 'raw/memes/rif-1640825692071.jpg',\n",
       " 'raw/memes/rif-1640826981416.jpg',\n",
       " 'raw/memes/signal-2021-09-02-11-10-07-720.jpg',\n",
       " 'raw/memes/rif-1640826581142.jpg',\n",
       " 'raw/memes/FB_IMG_1642957565981.jpg',\n",
       " 'raw/memes/rif-1640826203692.jpg',\n",
       " 'raw/memes/signal-2021-04-02-10-29-23-467.jpg',\n",
       " 'raw/memes/rif-1640825296342.jpg',\n",
       " 'raw/memes/rif-1640826135783.jpg',\n",
       " 'raw/memes/rif-1640825945664.jpg',\n",
       " 'raw/memes/signal-2020-10-06-18-58-53-404 (1).jpg',\n",
       " 'raw/memes/signal-2020-10-30-21-18-56-870.jpg',\n",
       " 'raw/memes/signal-2021-12-06-10-44-53-707.jpg',\n",
       " 'raw/memes/rif-1640825587167.jpg',\n",
       " 'raw/memes/rif-1640825656608.jpg',\n",
       " 'raw/memes/rif-1640826037411.jpg',\n",
       " 'raw/memes/rif-1640825777764.jpg',\n",
       " 'raw/memes/signal-2020-12-28-10-32-33-820.png',\n",
       " 'raw/memes/signal-2020-07-29-09-46-27-079.jpg',\n",
       " 'raw/memes/signal-2020-12-20-09-48-12-736.jpg',\n",
       " 'raw/memes/signal-2020-08-20-19-37-56-217.png',\n",
       " 'raw/memes/6mwhjwzxei951.jpg',\n",
       " 'raw/memes/rif-1640824534587.jpg',\n",
       " 'raw/memes/signal-2020-09-11-22-35-30-475.png',\n",
       " 'raw/memes/signal-2021-12-24-015626_001.png',\n",
       " 'raw/memes/signal-2020-08-24-14-53-49-673.png',\n",
       " 'raw/memes/signal-2021-07-10-11-32-29-819.jpg',\n",
       " 'raw/memes/rif-1640827162172.jpg',\n",
       " 'raw/memes/signal-2021-08-11-21-25-22-525.jpg',\n",
       " 'raw/memes/signal-2020-09-23-01-34-38-961.jpg',\n",
       " 'raw/memes/rif-1640824681644.jpg',\n",
       " 'raw/memes/rif-1640825639585.jpg',\n",
       " 'raw/memes/signal-2020-08-01-13-03-49-703.png',\n",
       " 'raw/memes/signal-2020-08-25-16-50-16-260.png',\n",
       " 'raw/memes/signal-2021-02-02-19-41-15-152.jpg',\n",
       " 'raw/memes/signal-2021-08-20-07-57-49-282.png',\n",
       " 'raw/memes/rif-1640825484276.jpg',\n",
       " 'raw/memes/signal-2021-02-05-19-18-20-768.png',\n",
       " 'raw/memes/signal-2021-06-30-18-29-04-467.jpg',\n",
       " 'raw/memes/signal-2020-09-10-14-00-20-922 (1).jpg',\n",
       " 'raw/memes/rif-1640824778517.jpg',\n",
       " 'raw/memes/signal-2020-09-14-09-43-11-271.jpg',\n",
       " 'raw/memes/rif-1640825702089.jpg',\n",
       " 'raw/memes/rif-1640825680204.jpg',\n",
       " 'raw/memes/signal-2021-01-12-12-39-38-728 (1).jpg',\n",
       " 'raw/memes/rif-1640826108075.jpg',\n",
       " 'raw/memes/signal-2020-10-16-12-00-35-751.png',\n",
       " 'raw/memes/signal-2021-05-08-10-47-59-761 (2).jpg',\n",
       " 'raw/memes/signal-2020-08-25-20-11-17-672.png',\n",
       " 'raw/memes/rif-1640825356658.jpg',\n",
       " 'raw/memes/6yl4gmavfrv41.jpg',\n",
       " 'raw/memes/signal-2020-12-03-22-01-55-030 (1).jpg',\n",
       " 'raw/memes/signal-2021-05-08-10-47-27-166.jpg',\n",
       " 'raw/memes/signal-2021-02-06-11-15-43-240.png',\n",
       " 'raw/memes/rif-1640826320084.jpg',\n",
       " 'raw/memes/signal-2020-12-30-11-00-41-796 (1).jpg',\n",
       " 'raw/memes/signal-2021-02-08-16-23-15-373.jpg',\n",
       " 'raw/memes/signal-2021-12-24-000420.png',\n",
       " 'raw/memes/signal-2021-02-03-17-30-44-569 (1).jpg',\n",
       " 'raw/memes/signal-2021-02-03-17-29-58-721.jpg',\n",
       " 'raw/memes/signal-2021-04-02-10-29-47-442.jpg',\n",
       " 'raw/memes/signal-2020-12-22-23-01-19-884 (1).jpg']"
      ]
     },
     "execution_count": 57,
     "metadata": {},
     "output_type": "execute_result"
    }
   ],
   "source": [
    "glob.glob(\"raw/memes/*\")"
   ]
  },
  {
   "cell_type": "code",
   "execution_count": null,
   "id": "cc100c35",
   "metadata": {},
   "outputs": [],
   "source": []
  },
  {
   "cell_type": "code",
   "execution_count": null,
   "id": "030f31a7",
   "metadata": {},
   "outputs": [],
   "source": []
  },
  {
   "cell_type": "code",
   "execution_count": 47,
   "id": "0befbb22",
   "metadata": {
    "ExecuteTime": {
     "end_time": "2022-06-20T19:44:27.593546Z",
     "start_time": "2022-06-20T19:44:27.589109Z"
    }
   },
   "outputs": [],
   "source": [
    "get_fp_food_image(\"brodo\")"
   ]
  },
  {
   "cell_type": "code",
   "execution_count": 55,
   "id": "64e07301",
   "metadata": {
    "ExecuteTime": {
     "end_time": "2022-06-20T19:49:29.429349Z",
     "start_time": "2022-06-20T19:49:29.421986Z"
    }
   },
   "outputs": [
    {
     "data": {
      "text/plain": [
       "PosixPath('static/img/food/brodo.jpg')"
      ]
     },
     "execution_count": 55,
     "metadata": {},
     "output_type": "execute_result"
    }
   ],
   "source": [
    "slug = \"brodo\"\n",
    "static_fp = f\"/img/food/{slug}.jpg\"\n",
    "Path(f\"static{static_fp}\")"
   ]
  },
  {
   "cell_type": "code",
   "execution_count": 52,
   "id": "65a3b1d9",
   "metadata": {
    "ExecuteTime": {
     "end_time": "2022-06-20T19:45:38.796415Z",
     "start_time": "2022-06-20T19:45:38.788219Z"
    }
   },
   "outputs": [
    {
     "data": {
      "text/plain": [
       "PosixPath('static/img/food/brodo.jpg')"
      ]
     },
     "execution_count": 52,
     "metadata": {},
     "output_type": "execute_result"
    }
   ],
   "source": [
    "static_fp = Path(f\"img/food/{slug}.jpg\")\n",
    "(Path(\"static\") / static_fp)"
   ]
  },
  {
   "cell_type": "code",
   "execution_count": null,
   "id": "37229416",
   "metadata": {},
   "outputs": [],
   "source": []
  }
 ],
 "metadata": {
  "kernelspec": {
   "display_name": "Python [conda env:tgtg]",
   "language": "python",
   "name": "conda-env-tgtg-py"
  },
  "language_info": {
   "codemirror_mode": {
    "name": "ipython",
    "version": 3
   },
   "file_extension": ".py",
   "mimetype": "text/x-python",
   "name": "python",
   "nbconvert_exporter": "python",
   "pygments_lexer": "ipython3",
   "version": "3.10.0"
  }
 },
 "nbformat": 4,
 "nbformat_minor": 5
}
